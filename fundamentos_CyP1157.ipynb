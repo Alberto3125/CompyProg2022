{
  "nbformat": 4,
  "nbformat_minor": 0,
  "metadata": {
    "colab": {
      "name": "fundamentos CyP1157.ipynb",
      "provenance": [],
      "collapsed_sections": [],
      "authorship_tag": "ABX9TyMJxFBwPRAr+kvi3iaqxvXJ",
      "include_colab_link": true
    },
    "kernelspec": {
      "name": "python3",
      "display_name": "Python 3"
    },
    "language_info": {
      "name": "python"
    }
  },
  "cells": [
    {
      "cell_type": "markdown",
      "metadata": {
        "id": "view-in-github",
        "colab_type": "text"
      },
      "source": [
        "<a href=\"https://colab.research.google.com/github/Alberto3125/CompyProg2022/blob/main/fundamentos_CyP1157.ipynb\" target=\"_parent\"><img src=\"https://colab.research.google.com/assets/colab-badge.svg\" alt=\"Open In Colab\"/></a>"
      ]
    },
    {
      "cell_type": "code",
      "metadata": {
        "colab": {
          "base_uri": "https://localhost:8080/"
        },
        "id": "MDJiiHr0VhAP",
        "outputId": "31961ea3-f3be-4a5f-f931-9b061b44cbfa"
      },
      "source": [
        "import sys \n",
        "nombre= 'pablo' #Tipo de dato String  (cadena de caracteres)\n",
        "\n",
        "print (nombre)"
      ],
      "execution_count": null,
      "outputs": [
        {
          "output_type": "stream",
          "name": "stdout",
          "text": [
            "pablo\n"
          ]
        }
      ]
    },
    {
      "cell_type": "markdown",
      "metadata": {
        "id": "Mto6syiBcycd"
      },
      "source": [
        "12/10/2021\n",
        "\n"
      ]
    },
    {
      "cell_type": "markdown",
      "metadata": {
        "id": "M9pNomKkXQ0Y"
      },
      "source": [
        "# Tipo de dato en Phyton \n",
        "### Ripos simples\n",
        "-str---> String cadena de caracteres \n",
        "- Int --->  numeros enteros \n",
        "- float -->  Numero con notacion de punto flotante \n",
        "-Complex--> Numeros complejos \n",
        "-bool--> boleano(True o False)\n",
        "-byte--> 8 bits\n",
        "\n",
        "### tipos de datos estructurados (compuestos)\n",
        "\n",
        "-list--> Listas (arreglos en otros lenguajes)\n",
        "-dict--> Diccionarios \n",
        "- set y frezenset--> Conjuntos \n",
        "-tuple--> Listas no mutables"
      ]
    },
    {
      "cell_type": "code",
      "metadata": {
        "colab": {
          "base_uri": "https://localhost:8080/"
        },
        "id": "OrrsxYgGaXMH",
        "outputId": "9922597e-a87e-4a5d-fe21-a5c3c75293de"
      },
      "source": [
        "import sys\n",
        "edad = 19\n",
        "print (\"Tu edad es:\", edad) # al final de una linea de codigo\n",
        "#Este es un comentario de liena simple\n",
        "\n",
        "\"\"\"\n",
        "Comentario de multiple linea \n",
        "En leguaje C, C++ y Java el comentario de multiple lunes es con /* ..... */ \n",
        "\n",
        "En lenguaje C, C++ y Java el comentario de una sola linea es con:\n",
        "\n",
        "//\n",
        "\n",
        "Aqui puedes explicar en prosa el segmento de una codigo para futura \n",
        "\"\"\"\n",
        "\n",
        "#Tipos de dato numerico int y float\n",
        "# El tipo de dato INT utiliza diferente cantidad de bits segun el\n",
        "# lenguaje de programacion por ejemplo en C se utiliza  16 bits.\n",
        "print (sys.getsizeof(edad))\n",
        "\n",
        "edad = edad + 1 \n",
        "print (edad)\n",
        "\n",
        "estatura = 1.56 \n",
        "print (sys.getsizeof(estatura))\n",
        "estatura = estatura + .1 \n",
        "print (estatura)\n",
        "print ( round(estatura,2))\n",
        "\n",
        "edad += 1 #edad = edad + 1\n",
        "print (\"Tu edad es:\", edad)\n",
        "\n",
        "edad -= 1 #edad = edad + 1\n",
        "print (\"Tu edad es:\", edad)\n",
        "\n",
        "edad += 1\n",
        "edad /= 2 #edad = edad / 2\n",
        "print (\"La mitad de tu edad es:\", edad)\n",
        "\n",
        "edad  = 21\n",
        "#volver a calcular la mitad de la edad pero solo dejar\n",
        "#parte  entera \n",
        "edad = edad//2 \n",
        "print (\"La mitad de tu edad es:\", edad) \n",
        "\n",
        "#La mayoria de los lenguajes de programacion no permite operaciones entre \n",
        "#diferentes tipos de datos, en phyton no es el caso \n",
        "\n",
        "numero = edad / 2.0\n",
        "print(numero)\n",
        "\n",
        "numero = numero *3\n",
        "print(numero)\n",
        "\n",
        "numero = 5.0\n",
        "numero = numero **2\n",
        "print (numero)\n",
        "\n"
      ],
      "execution_count": null,
      "outputs": [
        {
          "output_type": "stream",
          "name": "stdout",
          "text": [
            "Tu edad es: 19\n",
            "28\n",
            "20\n",
            "24\n",
            "1.6600000000000001\n",
            "1.66\n",
            "Tu edad es: 21\n",
            "Tu edad es: 20\n",
            "La mitad de tu edad es: 10.5\n",
            "La mitad de tu edad es: 10\n",
            "5.0\n",
            "15.0\n",
            "25.0\n"
          ]
        }
      ]
    },
    {
      "cell_type": "code",
      "metadata": {
        "colab": {
          "base_uri": "https://localhost:8080/"
        },
        "id": "bURI2tYJJsTB",
        "outputId": "8fe6bd17-530b-42ad-c87f-810a6749a3bb"
      },
      "source": [
        "#operador modulo \n",
        "numero = 21\n",
        "print (numero/2)\n",
        "print(numero//2)\n",
        "\n",
        "#El operador modulo da como resultado el residuo de una divison entera\n",
        "print(numero%2)\n",
        "\n",
        "numero = 24 \n",
        "print (\"Residuo de 24 / 5: \", numero % 5 )\n",
        "\n",
        "print (\"24 es par? = \", numero% 2 == 0)\n",
        "\n",
        "#diferencia\n",
        "print ( \"24 es diferente de 23 = \", numero !=23)\n",
        "print (\"24 es mayor que 23\", numero>23)\n",
        "print (\"24 es menor que 23\", numero<23)\n",
        "\n",
        "print (\"24 es menor o igual que 24\", numero>=24)\n",
        "print (\"24 es menor o igual que 23\", numero<23)\n",
        "\n",
        "print(\"El tipo de dato de la var numero es:\", type(numero))\n",
        "print(\"El tipo de dato de la var numero es:\", type(numero/2.0))"
      ],
      "execution_count": null,
      "outputs": [
        {
          "output_type": "stream",
          "name": "stdout",
          "text": [
            "10.5\n",
            "10\n",
            "1\n",
            "Residuo de 24 / 5:  4\n",
            "24 es par? =  True\n",
            "24 es diferente de 23 =  True\n",
            "24 es mayor que 23 True\n",
            "24 es menor que 23 False\n",
            "24 es menor o igual que 24 True\n",
            "24 es menor o igual que 23 False\n",
            "El tipo de dato de la var numero es: <class 'int'>\n",
            "El tipo de dato de la var numero es: <class 'float'>\n"
          ]
        }
      ]
    },
    {
      "cell_type": "code",
      "metadata": {
        "colab": {
          "base_uri": "https://localhost:8080/"
        },
        "id": "bbg7NVD3ploQ",
        "outputId": "313ce87f-ef35-44b8-b914-618bcce9d815"
      },
      "source": [
        "\n",
        "nombre = \"pablo\"\n",
        "carrera = \"ingenieria en computacion \"\n",
        "frase = \"\"\"El conocimiento me persigue,...\n",
        "pero\n",
        "yo soy mas rapido \n",
        "\"\"\"\n",
        "print (nombre)\n",
        "print(carrera)\n",
        "print(frase)\n",
        "\n",
        "#La funcion type de Phyton  te devuelve el tipo de dato de una variable (o e)\n",
        "print (type(nombre))\n",
        "\n",
        "paterno = str (\"macedo\")\n",
        "print (paterno)"
      ],
      "execution_count": null,
      "outputs": [
        {
          "output_type": "stream",
          "name": "stdout",
          "text": [
            "pablo\n",
            "ingenieria en computacion \n",
            "El conocimiento me persigue,...\n",
            "pero\n",
            "yo soy mas rapido \n",
            "\n",
            "<class 'str'>\n",
            "macedo\n"
          ]
        }
      ]
    },
    {
      "cell_type": "code",
      "metadata": {
        "id": "PdfoE0kfrYyA"
      },
      "source": [
        ""
      ],
      "execution_count": null,
      "outputs": []
    },
    {
      "cell_type": "markdown",
      "metadata": {
        "id": "VmfvZ2lNpvMx"
      },
      "source": [
        "# 14/10/2021\n",
        "#Tipo de dato strin (str) en Phyton \n",
        "-Se maneja como un arreglo  (tipo de dato compuesto)\n",
        "- Se puede acceder a los elemtos de el string por medio del indice del caracter.\n",
        "-Mutable\n",
        "-Tiene metodos utiles (potentes)\n",
        "-Slicing\n",
        "\n"
      ]
    },
    {
      "cell_type": "code",
      "metadata": {
        "colab": {
          "base_uri": "https://localhost:8080/"
        },
        "id": "RARYSB-XrbcH",
        "outputId": "86baf430-2587-4888-8b44-6e28d62aa86a"
      },
      "source": [
        "carrera = \"Ingenieria en computacion \"\n",
        "print ( carrera )\n",
        "print ( carrera [2])"
      ],
      "execution_count": 2,
      "outputs": [
        {
          "output_type": "stream",
          "name": "stdout",
          "text": [
            "Ingenieria en computacion \n",
            "g\n"
          ]
        }
      ]
    },
    {
      "cell_type": "markdown",
      "metadata": {
        "id": "BvNAow8Dr7GZ"
      },
      "source": [
        "#A la sintaxi s escrita para elegir un elemento de un grupo de datos se le llama selector. \n",
        "\n",
        "El el strings y listas (lst) \n",
        "se usasn los caracteres '['y']'\n",
        " 1. En todos los lenguajes los arreglos inician en 0 \n",
        " 2. En phytonno existe como tal el tipo de datos arreglo, el concepto es listas \n",
        " 3. Los strins se comportan como un arreglo en la mayoria de los lenguajes \n",
        " 4. En phyton se aceptan en indexado negativo, en otros lenguajes NO.\n",
        " "
      ]
    },
    {
      "cell_type": "code",
      "metadata": {
        "colab": {
          "base_uri": "https://localhost:8080/"
        },
        "id": "N6qDSkcct6Oj",
        "outputId": "f5654da8-f8d4-4986-ee56-a83928922aa7"
      },
      "source": [
        "carrera = \"Ingenieria en computacion \"\n",
        "print ( carrera )\n",
        "print ( carrera [8])\n",
        "print ( carrera [24])\n",
        "print ( carrera [-1])\n",
        "print ( carrera [-25])\n",
        "\n",
        "\n",
        "#Adelantando el tema del ciclo FOR\n",
        "\n",
        "for  letra in carrera: \n",
        "  print (\"-->\", letra, \"<--\")"
      ],
      "execution_count": 7,
      "outputs": [
        {
          "output_type": "stream",
          "name": "stdout",
          "text": [
            "Ingenieria en computacion \n",
            "i\n",
            "n\n",
            " \n",
            "n\n",
            "--> I <--\n",
            "--> n <--\n",
            "--> g <--\n",
            "--> e <--\n",
            "--> n <--\n",
            "--> i <--\n",
            "--> e <--\n",
            "--> r <--\n",
            "--> i <--\n",
            "--> a <--\n",
            "-->   <--\n",
            "--> e <--\n",
            "--> n <--\n",
            "-->   <--\n",
            "--> c <--\n",
            "--> o <--\n",
            "--> m <--\n",
            "--> p <--\n",
            "--> u <--\n",
            "--> t <--\n",
            "--> a <--\n",
            "--> c <--\n",
            "--> i <--\n",
            "--> o <--\n",
            "--> n <--\n",
            "-->   <--\n"
          ]
        }
      ]
    },
    {
      "cell_type": "markdown",
      "metadata": {
        "id": "pTAK6p8svDSJ"
      },
      "source": [
        "#Slicing (rebanado) de cadenas \n",
        "Permite seleccionar subcadenas con el operador \n",
        "[inicio: stop: incremento]\n",
        "\n",
        "\n",
        "\n",
        "### Slicing y valores por defecto\n",
        "inicio por defecto siemprr sera cero\n",
        "stop: tamaño del arreglo (indexado positivo)\n",
        "0 en (indexado negativo)\n",
        "\n",
        "incremento: es 1 (indexado positivo)"
      ]
    },
    {
      "cell_type": "code",
      "metadata": {
        "colab": {
          "base_uri": "https://localhost:8080/"
        },
        "id": "kIBsPnAMu-bx",
        "outputId": "0a341902-8e2b-49fe-aaf4-07ffd53511db"
      },
      "source": [
        "carrera = \"Ingenieria en computacion\"\n",
        "print ( carrera[0:10:1])\n",
        "print ( carrera[14:25:1])\n",
        "#Lo mismo pero con indexado negativo \n",
        "print ( carrera[-11:-1:1])\n",
        "print ( carrera[:10:])\n",
        "print ( carrera[14:25:])\n",
        "print ( carrera[-11: :1])\n",
        "\n",
        "#Solucion previa\n",
        "print ( \"-------\")\n",
        "print ( carrera[-11:-1:1])\n",
        "print ( carrera[-11: :1])\n",
        "#un ejercicio mas para ver incremento\n",
        "print ( carrera[2:10:2])\n",
        "print ( carrera[-1:12:-1])\n",
        "print ( carrera[25:13:-1])"
      ],
      "execution_count": 18,
      "outputs": [
        {
          "output_type": "stream",
          "name": "stdout",
          "text": [
            "Ingenieria\n",
            "computacion\n",
            "computacio\n",
            "Ingenieria\n",
            "computacion\n",
            "computacion\n",
            "-------\n",
            "computacio\n",
            "computacion\n",
            "gnei\n",
            "noicatupmoc \n",
            "noicatupmoc\n"
          ]
        }
      ]
    },
    {
      "cell_type": "markdown",
      "metadata": {
        "id": "uk_noj1I0mbs"
      },
      "source": [
        "#Strings y sus metodos\n",
        "# Todos los tipos de datos en phyton son objetos(CLASES DE LA PROGRAMACION ORIENTADA A OBJETOS  POO )\n",
        "## dir() y help() funciones para obtener ayuda del lenguaje phyton \n",
        "\n",
        "### dir muestra las funciones de un tipo de dato como resumen \n",
        "#### help muestra la ayuda pero con detalle\n",
        "\n",
        "Metodos que inician con doble guion bajo son privados de uso interno de la clase y no deberiamos usarlos\n"
      ]
    },
    {
      "cell_type": "code",
      "metadata": {
        "colab": {
          "base_uri": "https://localhost:8080/"
        },
        "id": "CbH3DulH1CRX",
        "outputId": "ac0776fe-5f01-48c3-a874-4e44ce359cbb"
      },
      "source": [
        "frutas =\"limon , fresa , manzana , aguacate\"\n",
        "nombre = \"pablo\"\n",
        "print(frutas)\n",
        "dir (frutas)\n",
        "\n",
        "print (nombre.capitalize())\n",
        "print (nombre.upper())\n",
        "print (frutas.replace('a','4').upper().replace('e','3'))\n",
        "frutas = frutas.replace('a','4').upper().replace('e','3')\n",
        "print(frutas)\n",
        "\n",
        "print(\"-,-,-,-,-,-,-,-,,-,-,-,-,-,-,-,-,-,-,-,-,-,\")\n",
        "frutas =\"limon , fresa , manzana , aguacate\"\n",
        "print(frutas.strip())\n",
        "print(frutas.split(','))\n",
        "print(frutas.index('n'))"
      ],
      "execution_count": 34,
      "outputs": [
        {
          "output_type": "stream",
          "name": "stdout",
          "text": [
            "limon , fresa , manzana , aguacate\n",
            "Pablo\n",
            "PABLO\n",
            "LIMON , FRES4 , M4NZ4N4 , 4GU4C4TE\n",
            "LIMON , FRES4 , M4NZ4N4 , 4GU4C4TE\n",
            "-,-,-,-,-,-,-,-,,-,-,-,-,-,-,-,-,-,-,-,-,-,\n",
            "limon , fresa , manzana , aguacate\n",
            "['limon ', ' fresa ', ' manzana ', ' aguacate']\n",
            "4\n"
          ]
        }
      ]
    },
    {
      "cell_type": "markdown",
      "metadata": {
        "id": "DXifg_JF8cCc"
      },
      "source": [
        "#String y caracteres de escape \n",
        "\n",
        "#-\\\"--->\"\n",
        "#-\\ '--->'\n",
        "#-\\n---->Salto de linea (Tecla enter )\n",
        "#-\\t--->Tabulador espacios a la izquierda \n",
        "#-\\uxxxx-----> Caracteres unicode \n",
        "#-\\Uxxxxxx--->unicode extendido "
      ]
    },
    {
      "cell_type": "code",
      "metadata": {
        "colab": {
          "base_uri": "https://localhost:8080/"
        },
        "id": "qd9dKdob80Ul",
        "outputId": "ed317359-26aa-4368-9b2f-f2d1c9c30beb"
      },
      "source": [
        "print(\"\\\"jose\\\"\")\n",
        "nombre = \"\\\"jose\\\"\"\n",
        "print (nombre)\n",
        "carrera= \"Ingenieria \\n\\ten \\n\\t\\t computacion\"\n",
        "print (carrera)"
      ],
      "execution_count": 35,
      "outputs": [
        {
          "output_type": "stream",
          "name": "stdout",
          "text": [
            "\"jose\"\n",
            "\"jose\"\n",
            "Ingenieria \n",
            "\ten \n",
            "\t\t computacion\n"
          ]
        }
      ]
    }
  ]
}