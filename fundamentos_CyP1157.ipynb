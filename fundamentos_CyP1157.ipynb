{
  "nbformat": 4,
  "nbformat_minor": 0,
  "metadata": {
    "colab": {
      "name": "fundamentos CyP1157.ipynb",
      "provenance": [],
      "collapsed_sections": [],
      "authorship_tag": "ABX9TyM9uElj80PVK4/82SvHWUBZ",
      "include_colab_link": true
    },
    "kernelspec": {
      "name": "python3",
      "display_name": "Python 3"
    },
    "language_info": {
      "name": "python"
    }
  },
  "cells": [
    {
      "cell_type": "markdown",
      "metadata": {
        "id": "view-in-github",
        "colab_type": "text"
      },
      "source": [
        "<a href=\"https://colab.research.google.com/github/Alberto3125/CompyProg2022/blob/main/fundamentos_CyP1157.ipynb\" target=\"_parent\"><img src=\"https://colab.research.google.com/assets/colab-badge.svg\" alt=\"Open In Colab\"/></a>"
      ]
    },
    {
      "cell_type": "code",
      "metadata": {
        "colab": {
          "base_uri": "https://localhost:8080/"
        },
        "id": "MDJiiHr0VhAP",
        "outputId": "31961ea3-f3be-4a5f-f931-9b061b44cbfa"
      },
      "source": [
        "import sys \n",
        "nombre= 'pablo' #Tipo de dato String  (cadena de caracteres)\n",
        "\n",
        "print (nombre)"
      ],
      "execution_count": null,
      "outputs": [
        {
          "output_type": "stream",
          "name": "stdout",
          "text": [
            "pablo\n"
          ]
        }
      ]
    },
    {
      "cell_type": "markdown",
      "metadata": {
        "id": "Mto6syiBcycd"
      },
      "source": [
        "12/10/2021\n",
        "\n"
      ]
    },
    {
      "cell_type": "markdown",
      "metadata": {
        "id": "M9pNomKkXQ0Y"
      },
      "source": [
        "# Tipo de dato en Phyton \n",
        "### Ripos simples\n",
        "-str---> String cadena de caracteres \n",
        "- Int --->  numeros enteros \n",
        "- float -->  Numero con notacion de punto flotante \n",
        "-Complex--> Numeros complejos \n",
        "-bool--> boleano(True o False)\n",
        "-byte--> 8 bits\n",
        "\n",
        "### tipos de datos estructurados (compuestos)\n",
        "\n",
        "-list--> Listas (arreglos en otros lenguajes)\n",
        "-dict--> Diccionarios \n",
        "- set y frezenset--> Conjuntos \n",
        "-tuple--> Listas no mutables"
      ]
    },
    {
      "cell_type": "code",
      "metadata": {
        "colab": {
          "base_uri": "https://localhost:8080/"
        },
        "id": "OrrsxYgGaXMH",
        "outputId": "9922597e-a87e-4a5d-fe21-a5c3c75293de"
      },
      "source": [
        "import sys\n",
        "edad = 19\n",
        "print (\"Tu edad es:\", edad) # al final de una linea de codigo\n",
        "#Este es un comentario de liena simple\n",
        "\n",
        "\"\"\"\n",
        "Comentario de multiple linea \n",
        "En leguaje C, C++ y Java el comentario de multiple lunes es con /* ..... */ \n",
        "\n",
        "En lenguaje C, C++ y Java el comentario de una sola linea es con:\n",
        "\n",
        "//\n",
        "\n",
        "Aqui puedes explicar en prosa el segmento de una codigo para futura \n",
        "\"\"\"\n",
        "\n",
        "#Tipos de dato numerico int y float\n",
        "# El tipo de dato INT utiliza diferente cantidad de bits segun el\n",
        "# lenguaje de programacion por ejemplo en C se utiliza  16 bits.\n",
        "print (sys.getsizeof(edad))\n",
        "\n",
        "edad = edad + 1 \n",
        "print (edad)\n",
        "\n",
        "estatura = 1.56 \n",
        "print (sys.getsizeof(estatura))\n",
        "estatura = estatura + .1 \n",
        "print (estatura)\n",
        "print ( round(estatura,2))\n",
        "\n",
        "edad += 1 #edad = edad + 1\n",
        "print (\"Tu edad es:\", edad)\n",
        "\n",
        "edad -= 1 #edad = edad + 1\n",
        "print (\"Tu edad es:\", edad)\n",
        "\n",
        "edad += 1\n",
        "edad /= 2 #edad = edad / 2\n",
        "print (\"La mitad de tu edad es:\", edad)\n",
        "\n",
        "edad  = 21\n",
        "#volver a calcular la mitad de la edad pero solo dejar\n",
        "#parte  entera \n",
        "edad = edad//2 \n",
        "print (\"La mitad de tu edad es:\", edad) \n",
        "\n",
        "#La mayoria de los lenguajes de programacion no permite operaciones entre \n",
        "#diferentes tipos de datos, en phyton no es el caso \n",
        "\n",
        "numero = edad / 2.0\n",
        "print(numero)\n",
        "\n",
        "numero = numero *3\n",
        "print(numero)\n",
        "\n",
        "numero = 5.0\n",
        "numero = numero **2\n",
        "print (numero)\n",
        "\n"
      ],
      "execution_count": null,
      "outputs": [
        {
          "output_type": "stream",
          "name": "stdout",
          "text": [
            "Tu edad es: 19\n",
            "28\n",
            "20\n",
            "24\n",
            "1.6600000000000001\n",
            "1.66\n",
            "Tu edad es: 21\n",
            "Tu edad es: 20\n",
            "La mitad de tu edad es: 10.5\n",
            "La mitad de tu edad es: 10\n",
            "5.0\n",
            "15.0\n",
            "25.0\n"
          ]
        }
      ]
    },
    {
      "cell_type": "code",
      "metadata": {
        "colab": {
          "base_uri": "https://localhost:8080/"
        },
        "id": "bURI2tYJJsTB",
        "outputId": "8fe6bd17-530b-42ad-c87f-810a6749a3bb"
      },
      "source": [
        "#operador modulo \n",
        "numero = 21\n",
        "print (numero/2)\n",
        "print(numero//2)\n",
        "\n",
        "#El operador modulo da como resultado el residuo de una divison entera\n",
        "print(numero%2)\n",
        "\n",
        "numero = 24 \n",
        "print (\"Residuo de 24 / 5: \", numero % 5 )\n",
        "\n",
        "print (\"24 es par? = \", numero% 2 == 0)\n",
        "\n",
        "#diferencia\n",
        "print ( \"24 es diferente de 23 = \", numero !=23)\n",
        "print (\"24 es mayor que 23\", numero>23)\n",
        "print (\"24 es menor que 23\", numero<23)\n",
        "\n",
        "print (\"24 es menor o igual que 24\", numero>=24)\n",
        "print (\"24 es menor o igual que 23\", numero<23)\n",
        "\n",
        "print(\"El tipo de dato de la var numero es:\", type(numero))\n",
        "print(\"El tipo de dato de la var numero es:\", type(numero/2.0))"
      ],
      "execution_count": null,
      "outputs": [
        {
          "output_type": "stream",
          "name": "stdout",
          "text": [
            "10.5\n",
            "10\n",
            "1\n",
            "Residuo de 24 / 5:  4\n",
            "24 es par? =  True\n",
            "24 es diferente de 23 =  True\n",
            "24 es mayor que 23 True\n",
            "24 es menor que 23 False\n",
            "24 es menor o igual que 24 True\n",
            "24 es menor o igual que 23 False\n",
            "El tipo de dato de la var numero es: <class 'int'>\n",
            "El tipo de dato de la var numero es: <class 'float'>\n"
          ]
        }
      ]
    },
    {
      "cell_type": "code",
      "metadata": {
        "colab": {
          "base_uri": "https://localhost:8080/"
        },
        "id": "bbg7NVD3ploQ",
        "outputId": "313ce87f-ef35-44b8-b914-618bcce9d815"
      },
      "source": [
        "\n",
        "nombre = \"pablo\"\n",
        "carrera = \"ingenieria en computacion \"\n",
        "frase = \"\"\"El conocimiento me persigue,...\n",
        "pero\n",
        "yo soy mas rapido \n",
        "\"\"\"\n",
        "print (nombre)\n",
        "print(carrera)\n",
        "print(frase)\n",
        "\n",
        "#La funcion type de Phyton  te devuelve el tipo de dato de una variable (o e)\n",
        "print (type(nombre))\n",
        "\n",
        "paterno = str (\"macedo\")\n",
        "print (paterno)"
      ],
      "execution_count": null,
      "outputs": [
        {
          "output_type": "stream",
          "name": "stdout",
          "text": [
            "pablo\n",
            "ingenieria en computacion \n",
            "El conocimiento me persigue,...\n",
            "pero\n",
            "yo soy mas rapido \n",
            "\n",
            "<class 'str'>\n",
            "macedo\n"
          ]
        }
      ]
    },
    {
      "cell_type": "code",
      "metadata": {
        "id": "PdfoE0kfrYyA"
      },
      "source": [
        ""
      ],
      "execution_count": null,
      "outputs": []
    },
    {
      "cell_type": "markdown",
      "metadata": {
        "id": "VmfvZ2lNpvMx"
      },
      "source": [
        "# 14/10/2021\n",
        "#Tipo de dato strin (str) en Phyton \n",
        "-Se maneja como un arreglo  (tipo de dato compuesto)\n",
        "- Se puede acceder a los elemtos de el string por medio del indice del caracter.\n",
        "-Mutable\n",
        "-Tiene metodos utiles (potentes)\n",
        "-Slicing\n",
        "\n"
      ]
    },
    {
      "cell_type": "code",
      "metadata": {
        "colab": {
          "base_uri": "https://localhost:8080/"
        },
        "id": "RARYSB-XrbcH",
        "outputId": "86baf430-2587-4888-8b44-6e28d62aa86a"
      },
      "source": [
        "carrera = \"Ingenieria en computacion \"\n",
        "print ( carrera )\n",
        "print ( carrera [2])"
      ],
      "execution_count": null,
      "outputs": [
        {
          "output_type": "stream",
          "name": "stdout",
          "text": [
            "Ingenieria en computacion \n",
            "g\n"
          ]
        }
      ]
    },
    {
      "cell_type": "markdown",
      "metadata": {
        "id": "BvNAow8Dr7GZ"
      },
      "source": [
        "#A la sintaxi s escrita para elegir un elemento de un grupo de datos se le llama selector. \n",
        "\n",
        "El el strings y listas (lst) \n",
        "se usasn los caracteres '['y']'\n",
        " 1. En todos los lenguajes los arreglos inician en 0 \n",
        " 2. En phytonno existe como tal el tipo de datos arreglo, el concepto es listas \n",
        " 3. Los strins se comportan como un arreglo en la mayoria de los lenguajes \n",
        " 4. En phyton se aceptan en indexado negativo, en otros lenguajes NO.\n",
        " "
      ]
    },
    {
      "cell_type": "code",
      "metadata": {
        "colab": {
          "base_uri": "https://localhost:8080/"
        },
        "id": "N6qDSkcct6Oj",
        "outputId": "f5654da8-f8d4-4986-ee56-a83928922aa7"
      },
      "source": [
        "carrera = \"Ingenieria en computacion \"\n",
        "print ( carrera )\n",
        "print ( carrera [8])\n",
        "print ( carrera [24])\n",
        "print ( carrera [-1])\n",
        "print ( carrera [-25])\n",
        "\n",
        "\n",
        "#Adelantando el tema del ciclo FOR\n",
        "\n",
        "for  letra in carrera: \n",
        "  print (\"-->\", letra, \"<--\")"
      ],
      "execution_count": null,
      "outputs": [
        {
          "output_type": "stream",
          "name": "stdout",
          "text": [
            "Ingenieria en computacion \n",
            "i\n",
            "n\n",
            " \n",
            "n\n",
            "--> I <--\n",
            "--> n <--\n",
            "--> g <--\n",
            "--> e <--\n",
            "--> n <--\n",
            "--> i <--\n",
            "--> e <--\n",
            "--> r <--\n",
            "--> i <--\n",
            "--> a <--\n",
            "-->   <--\n",
            "--> e <--\n",
            "--> n <--\n",
            "-->   <--\n",
            "--> c <--\n",
            "--> o <--\n",
            "--> m <--\n",
            "--> p <--\n",
            "--> u <--\n",
            "--> t <--\n",
            "--> a <--\n",
            "--> c <--\n",
            "--> i <--\n",
            "--> o <--\n",
            "--> n <--\n",
            "-->   <--\n"
          ]
        }
      ]
    },
    {
      "cell_type": "markdown",
      "metadata": {
        "id": "pTAK6p8svDSJ"
      },
      "source": [
        "#Slicing (rebanado) de cadenas \n",
        "Permite seleccionar subcadenas con el operador \n",
        "[inicio: stop: incremento]\n",
        "\n",
        "\n",
        "\n",
        "### Slicing y valores por defecto\n",
        "inicio por defecto siemprr sera cero\n",
        "stop: tamaño del arreglo (indexado positivo)\n",
        "0 en (indexado negativo)\n",
        "\n",
        "incremento: es 1 (indexado positivo)"
      ]
    },
    {
      "cell_type": "code",
      "metadata": {
        "colab": {
          "base_uri": "https://localhost:8080/"
        },
        "id": "kIBsPnAMu-bx",
        "outputId": "0a341902-8e2b-49fe-aaf4-07ffd53511db"
      },
      "source": [
        "carrera = \"Ingenieria en computacion\"\n",
        "print ( carrera[0:10:1])\n",
        "print ( carrera[14:25:1])\n",
        "#Lo mismo pero con indexado negativo \n",
        "print ( carrera[-11:-1:1])\n",
        "print ( carrera[:10:])\n",
        "print ( carrera[14:25:])\n",
        "print ( carrera[-11: :1])\n",
        "\n",
        "#Solucion previa\n",
        "print ( \"-------\")\n",
        "print ( carrera[-11:-1:1])\n",
        "print ( carrera[-11: :1])\n",
        "#un ejercicio mas para ver incremento\n",
        "print ( carrera[2:10:2])\n",
        "print ( carrera[-1:12:-1])\n",
        "print ( carrera[25:13:-1])"
      ],
      "execution_count": null,
      "outputs": [
        {
          "output_type": "stream",
          "name": "stdout",
          "text": [
            "Ingenieria\n",
            "computacion\n",
            "computacio\n",
            "Ingenieria\n",
            "computacion\n",
            "computacion\n",
            "-------\n",
            "computacio\n",
            "computacion\n",
            "gnei\n",
            "noicatupmoc \n",
            "noicatupmoc\n"
          ]
        }
      ]
    },
    {
      "cell_type": "markdown",
      "metadata": {
        "id": "uk_noj1I0mbs"
      },
      "source": [
        "#Strings y sus metodos\n",
        "# Todos los tipos de datos en phyton son objetos(CLASES DE LA PROGRAMACION ORIENTADA A OBJETOS  POO )\n",
        "## dir() y help() funciones para obtener ayuda del lenguaje phyton \n",
        "\n",
        "### dir muestra las funciones de un tipo de dato como resumen \n",
        "#### help muestra la ayuda pero con detalle\n",
        "\n",
        "Metodos que inician con doble guion bajo son privados de uso interno de la clase y no deberiamos usarlos\n"
      ]
    },
    {
      "cell_type": "code",
      "metadata": {
        "colab": {
          "base_uri": "https://localhost:8080/"
        },
        "id": "CbH3DulH1CRX",
        "outputId": "ac0776fe-5f01-48c3-a874-4e44ce359cbb"
      },
      "source": [
        "frutas =\"limon , fresa , manzana , aguacate\"\n",
        "nombre = \"pablo\"\n",
        "print(frutas)\n",
        "dir (frutas)\n",
        "\n",
        "print (nombre.capitalize())\n",
        "print (nombre.upper())\n",
        "print (frutas.replace('a','4').upper().replace('e','3'))\n",
        "frutas = frutas.replace('a','4').upper().replace('e','3')\n",
        "print(frutas)\n",
        "\n",
        "print(\"-,-,-,-,-,-,-,-,,-,-,-,-,-,-,-,-,-,-,-,-,-,\")\n",
        "frutas =\"limon , fresa , manzana , aguacate\"\n",
        "print(frutas.strip())\n",
        "print(frutas.split(','))\n",
        "print(frutas.index('n'))"
      ],
      "execution_count": null,
      "outputs": [
        {
          "output_type": "stream",
          "name": "stdout",
          "text": [
            "limon , fresa , manzana , aguacate\n",
            "Pablo\n",
            "PABLO\n",
            "LIMON , FRES4 , M4NZ4N4 , 4GU4C4TE\n",
            "LIMON , FRES4 , M4NZ4N4 , 4GU4C4TE\n",
            "-,-,-,-,-,-,-,-,,-,-,-,-,-,-,-,-,-,-,-,-,-,\n",
            "limon , fresa , manzana , aguacate\n",
            "['limon ', ' fresa ', ' manzana ', ' aguacate']\n",
            "4\n"
          ]
        }
      ]
    },
    {
      "cell_type": "markdown",
      "metadata": {
        "id": "DXifg_JF8cCc"
      },
      "source": [
        "#String y caracteres de escape \n",
        "\n",
        "#-\\\"--->\"\n",
        "#-\\ '--->'\n",
        "#-\\n---->Salto de linea (Tecla enter )\n",
        "#-\\t--->Tabulador espacios a la izquierda \n",
        "#-\\uxxxx-----> Caracteres unicode \n",
        "#-\\Uxxxxxx--->unicode extendido "
      ]
    },
    {
      "cell_type": "code",
      "metadata": {
        "colab": {
          "base_uri": "https://localhost:8080/"
        },
        "id": "qd9dKdob80Ul",
        "outputId": "02125905-288f-4788-c1dd-f8b2b213000d"
      },
      "source": [
        "print(\"\\\"jose\\\"\")\n",
        "nombre = \"\\\"jose\\\"\"\n",
        "print (nombre)\n",
        "carrera= \"Ingenieria \\n\\ten \\n\\t\\t computacion\"\n",
        "print (carrera)\n",
        "print (\"\\u0065\")\n",
        "print (\"\\u0444\")\n",
        "print (\"\\u0620\")\n",
        "\n",
        "print (\"\\U00000065\")\n",
        "print(\"\\U0001F602\")\n",
        "print(\"\\U000010057\")\n",
        "print(\"\\000U1F9A0\")"
      ],
      "execution_count": null,
      "outputs": [
        {
          "output_type": "stream",
          "name": "stdout",
          "text": [
            "\"jose\"\n",
            "\"jose\"\n",
            "Ingenieria \n",
            "\ten \n",
            "\t\t computacion\n",
            "e\n",
            "ф\n",
            "ؠ\n",
            "e\n",
            "😂\n",
            "စ7\n",
            "\u0000U1F9A0\n"
          ]
        }
      ]
    },
    {
      "cell_type": "markdown",
      "metadata": {
        "id": "1YT8EVXWyK4-"
      },
      "source": [
        "#FUNCION PRINT\n",
        "\n",
        "### Se emplea para desplegar informacion en la salida estandar, normalmente un monitor \n",
        "\n",
        "####-Formas de usar print\n",
        "####-El argumento por defecto de print (end) \n",
        "####-format()\n",
        "####-Operador f\"\"\n"
      ]
    },
    {
      "cell_type": "code",
      "metadata": {
        "colab": {
          "base_uri": "https://localhost:8080/"
        },
        "id": "vzSgXHRqzEje",
        "outputId": "31095e01-fcbb-4bbd-f073-c0a5c8fa5936"
      },
      "source": [
        "nombre = \"Jose\"\n",
        "edad  = 18\n",
        "Casado = False \n",
        "estatura = 1.67\n",
        "\n",
        "\"\"\"\n",
        "nombre = \"Jose\"\n",
        "    edad  = 18\n",
        "    Casado = False \n",
        "    estatura = 1.67\n",
        "\"\"\"\n",
        "#.-Con comas.- concatena haciendo un casting (conversion a string automatico)\n",
        "#Agrega un  espacio\n",
        "print(nombre,edad,Casado,estatura)\n",
        "print(\"nombre:\"+nombre+\"\\n\\tedad:\"+str(edad)+\"n\\testa casado:\"+str(Casado)+\"\\n\\testatura en metros:\"+str(estatura))\n",
        "\n",
        "\n",
        "#2.- Con el simbolo de \"+\"\n",
        "# Concatenacion en crudo \n",
        "print(nombre+\"\"+str(edad)+\"\"+str(Casado)+\"\"+str(estatura) )\n",
        "\n",
        "#3.- Dando formato a la salida con format()\n",
        "print(\"\\nCon la función format()\")\n",
        "print(\"Nombre: {}\\n\\tEdad: {}\\n\\tEsta Casado: {}\\n\\testatura en metros: {}\".format(nombre,edad,Casado,estatura))\n",
        "\n",
        "\n",
        "#4.- Con el operador f \"\"\n",
        "print(\"Con el operador f\\\" \\\"\")\n",
        "print(f\"nombre: { nombre }\\n\\tedad: { edad }\\n\\testa casado: { Casado }\\n\\t estatura en metros { estatura }\\n\\t\") \n",
        "\n",
        "#5.- Como manejar el argumento end\n",
        "print(\"\\n Como usar el argumento end\")\n",
        "print(f\"hola{nombre}\" ,end=\"\")\n",
        "print(\", como estas?\" , end=\"\\n\")"
      ],
      "execution_count": null,
      "outputs": [
        {
          "output_type": "stream",
          "name": "stdout",
          "text": [
            "Jose 18 False 1.67\n",
            "nombre:Jose\n",
            "\tedad:18n\testa casado:False\n",
            "\testatura en metros:1.67\n",
            "Jose18False1.67\n",
            "\n",
            "Con la función format()\n",
            "Nombre: Jose\n",
            "\tEdad: 18\n",
            "\tEsta Casado: False\n",
            "\testatura en metros: 1.67\n",
            "Con el operador f\" \"\n",
            "nombre: Jose\n",
            "\tedad: 18\n",
            "\testa casado: False\n",
            "\t estatura en metros 1.67\n",
            "\t\n",
            "\n",
            " Como usar el argumento end\n",
            "holaJose, como estas?\n"
          ]
        }
      ]
    },
    {
      "cell_type": "markdown",
      "metadata": {
        "id": "Bh--k6vaElDd"
      },
      "source": [
        "###TAREA \n",
        "\n",
        "###Con una sola función print POR LETRA van a escribir su primer nombre, como se muestra en la imagen adjunta o todo el nombre completo en una sola funcion de print."
      ]
    },
    {
      "cell_type": "code",
      "metadata": {
        "colab": {
          "base_uri": "https://localhost:8080/"
        },
        "id": "dvdcbeExCYze",
        "outputId": "f27f8e45-af57-4719-a420-785b23afb44d"
      },
      "source": [
        "print (\"\"\"\n",
        "pppppp       A      BBBBB  LL         OOOOO\n",
        "p     p    A   A    B    B LL        O     O\n",
        "pppppp    AAAAAAA   B BBB  LL        O     O\n",
        "p        A       A  B    B LL        O     O\n",
        "p       A         A BBBBB  LLLLLLLL   OOOOO\n",
        "\"\"\")\n",
        "\n",
        "\n"
      ],
      "execution_count": null,
      "outputs": [
        {
          "output_type": "stream",
          "name": "stdout",
          "text": [
            "\n",
            "pppppp       A      BBBBB  LL         OOOOO\n",
            "p     p    A   A    B    B LL        O     O\n",
            "pppppp    AAAAAAA   B BBB  LL        O     O\n",
            "p        A       A  B    B LL        O     O\n",
            "p       A         A BBBBB  LLLLLLLL   OOOOO\n",
            "\n"
          ]
        }
      ]
    },
    {
      "cell_type": "markdown",
      "metadata": {
        "id": "gui99ONRBSvk"
      },
      "source": [
        "# Datos de entrada \n",
        "\n",
        "## para solicitar los datos de de un usuario se emplea la funcion imput. La cual regresa siempre tipo de dato string\n"
      ]
    },
    {
      "cell_type": "code",
      "metadata": {
        "colab": {
          "base_uri": "https://localhost:8080/"
        },
        "id": "CBJ0OIXMBnae",
        "outputId": "afa025b6-cc9c-424e-a8ed-8810509c0613"
      },
      "source": [
        "nombre = input(\"Ingresa tu nombre \")\n",
        "print (\"Tecleaste nombre:\" , nombre)"
      ],
      "execution_count": 1,
      "outputs": [
        {
          "output_type": "stream",
          "name": "stdout",
          "text": [
            "Ingresa tu nombre pablo\n",
            "Tecleaste nombre: pablo\n"
          ]
        }
      ]
    },
    {
      "cell_type": "markdown",
      "metadata": {
        "id": "NL-GfhiDCDnF"
      },
      "source": [
        "# 04/11/2021\n",
        "# Como capturar datos numericos  \n",
        "## Para ello se hace una conversion entre tipos...\n",
        "casting ... consiste en llamar al constructor de la clase deseada \n",
        "\n",
        "## ejemplo convertir string \"2\" en numero \n",
        "### num = int (\"2\")"
      ]
    },
    {
      "cell_type": "code",
      "metadata": {
        "colab": {
          "base_uri": "https://localhost:8080/"
        },
        "id": "J_AaDfnqCpeI",
        "outputId": "8bc4c640-9dbc-4d5b-b38d-152147e155e3"
      },
      "source": [
        "entrada = input(\"Dame tu edad  \")\n",
        "edad = int(entrada)\n",
        "edad+=1  # edad = edad+1\n",
        "print(\"Tu edad es:\", edad)"
      ],
      "execution_count": 10,
      "outputs": [
        {
          "output_type": "stream",
          "name": "stdout",
          "text": [
            "Dame tu edad  7\n",
            "Tu edad es: 8\n"
          ]
        }
      ]
    },
    {
      "cell_type": "code",
      "metadata": {
        "colab": {
          "base_uri": "https://localhost:8080/"
        },
        "id": "C1Y5t-JIDMNi",
        "outputId": "357d35db-21ff-4203-c26f-fd34dc0ae235"
      },
      "source": [
        "# Lo mismo pero con menos codigo\n",
        "\n",
        "edad = int (input (\"Dame tu edad\"))\n",
        "print (\"Tu edad es:\" ,edad+1)"
      ],
      "execution_count": 5,
      "outputs": [
        {
          "output_type": "stream",
          "name": "stdout",
          "text": [
            "Dame tu edad7\n",
            "Tu edad es: 8\n"
          ]
        }
      ]
    },
    {
      "cell_type": "code",
      "metadata": {
        "colab": {
          "base_uri": "https://localhost:8080/"
        },
        "id": "7Mk-qB9bD6v6",
        "outputId": "8a178b42-073b-4356-f350-a5ca486fae79"
      },
      "source": [
        "estatura = float (input(\"Dame tu estatura:\"))\n",
        "print(\"Tu estatura es:\", estatura+0.1)"
      ],
      "execution_count": 6,
      "outputs": [
        {
          "output_type": "stream",
          "name": "stdout",
          "text": [
            "Dame tu estatura:1.67\n",
            "Tu estatura es: 1.77\n"
          ]
        }
      ]
    },
    {
      "cell_type": "code",
      "metadata": {
        "colab": {
          "base_uri": "https://localhost:8080/"
        },
        "id": "wenhXIpXEWIO",
        "outputId": "ae1a5e40-bf5e-4b37-c54a-abb9d9288e0a"
      },
      "source": [
        "#inputs de bolean \n",
        "\n",
        "casado = bool(int(input(\"soltero(0)casado(1)\")))\n",
        "print(\"casado=\", casado)"
      ],
      "execution_count": 9,
      "outputs": [
        {
          "output_type": "stream",
          "name": "stdout",
          "text": [
            "soltero(0)casado(1)0\n",
            "casado= False\n"
          ]
        }
      ]
    }
  ]
}