{
  "nbformat": 4,
  "nbformat_minor": 0,
  "metadata": {
    "colab": {
      "name": "fundamentos CyP1157.ipynb",
      "provenance": [],
      "collapsed_sections": [],
      "authorship_tag": "ABX9TyNqqOW3ros52GG5th226cYO",
      "include_colab_link": true
    },
    "kernelspec": {
      "name": "python3",
      "display_name": "Python 3"
    },
    "language_info": {
      "name": "python"
    }
  },
  "cells": [
    {
      "cell_type": "markdown",
      "metadata": {
        "id": "view-in-github",
        "colab_type": "text"
      },
      "source": [
        "<a href=\"https://colab.research.google.com/github/Alberto3125/CompyProg2022/blob/main/fundamentos_CyP1157.ipynb\" target=\"_parent\"><img src=\"https://colab.research.google.com/assets/colab-badge.svg\" alt=\"Open In Colab\"/></a>"
      ]
    },
    {
      "cell_type": "code",
      "metadata": {
        "colab": {
          "base_uri": "https://localhost:8080/"
        },
        "id": "MDJiiHr0VhAP",
        "outputId": "31961ea3-f3be-4a5f-f931-9b061b44cbfa"
      },
      "source": [
        "import sys \n",
        "nombre= 'pablo' #Tipo de dato String  (cadena de caracteres)\n",
        "\n",
        "print (nombre)"
      ],
      "execution_count": 2,
      "outputs": [
        {
          "output_type": "stream",
          "name": "stdout",
          "text": [
            "pablo\n"
          ]
        }
      ]
    },
    {
      "cell_type": "markdown",
      "metadata": {
        "id": "Mto6syiBcycd"
      },
      "source": [
        "12/10/2021\n",
        "\n"
      ]
    },
    {
      "cell_type": "markdown",
      "metadata": {
        "id": "M9pNomKkXQ0Y"
      },
      "source": [
        "# Tipo de dato en Phyton \n",
        "### Ripos simples\n",
        "-str---> String cadena de caracteres \n",
        "- Int --->  numeros enteros \n",
        "- float -->  Numero con notacion de punto flotante \n",
        "-Complex--> Numeros complejos \n",
        "-bool--> boleano(True o False)\n",
        "-byte--> 8 bits\n",
        "\n",
        "### tipos de datos estructurados (compuestos)\n",
        "\n",
        "-list--> Listas (arreglos en otros lenguajes)\n",
        "-dict--> Diccionarios \n",
        "- set y frezenset--> Conjuntos \n",
        "-tuple--> Listas no mutables"
      ]
    },
    {
      "cell_type": "code",
      "metadata": {
        "colab": {
          "base_uri": "https://localhost:8080/"
        },
        "id": "OrrsxYgGaXMH",
        "outputId": "b9eac395-f20a-41ec-d120-0acf30a3bd1f"
      },
      "source": [
        "import sys\n",
        "edad = 19\n",
        "print (\"Tu edad es:\", edad) # al final de una linea de codigo\n",
        "#Este es un comentario de liena simple\n",
        "\n",
        "\"\"\"\n",
        "Comentario de multiple linea \n",
        "En leguaje C, C++ y Java el comentario de multiple lunes es con /* ..... */ \n",
        "\n",
        "En lenguaje C, C++ y Java el comentario de una sola linea es con:\n",
        "\n",
        "//\n",
        "\n",
        "Aqui puedes explicar en prosa el segmento de una codigo para futura \n",
        "\"\"\"\n",
        "\n",
        "#Tipos de dato numerico int y float\n",
        "# El tipo de dato INT utiliza diferente cantidad de bits segun el\n",
        "# lenguaje de programacion por ejemplo en C se utiliza  16 bits.\n",
        "print (sys.getsizeof(edad))\n",
        "\n",
        "edad = edad + 1 \n",
        "print (edad)\n",
        "\n",
        "estatura = 1.56 \n",
        "print (sys.getsizeof(estatura))\n",
        "estatura = estatura + .1 \n",
        "print (estatura)\n",
        "print ( round(estatura,2))\n",
        "\n",
        "edad += 1 #edad = edad + 1\n",
        "print (\"Tu edad es:\", edad)\n",
        "\n",
        "edad -= 1 #edad = edad + 1\n",
        "print (\"Tu edad es:\", edad)\n",
        "\n",
        "edad += 1\n",
        "edad /= 2 #edad = edad / 2\n",
        "print (\"La mitad de tu edad es:\", edad)\n",
        "\n",
        "edad  = 21\n",
        "#volver a calcular la mitad de la edad pero solo dejar\n",
        "#parte  entera \n",
        "edad = edad//2 \n",
        "print (\"La mitad de tu edad es:\", edad) \n",
        "\n",
        "#La mayoria de los lenguajes de programacion no permite operaciones entre \n",
        "#diferentes tipos de datos, en phyton no es el caso \n",
        "\n",
        "numero = edad / 2.0\n",
        "print(numero)\n",
        "\n",
        "numero = numero *3\n",
        "print(numero)\n",
        "\n",
        "numero = 5.0\n",
        "numero = numero **2\n",
        "print (numero)\n",
        "\n"
      ],
      "execution_count": 28,
      "outputs": [
        {
          "output_type": "stream",
          "name": "stdout",
          "text": [
            "Tu edad es: 19\n",
            "28\n",
            "20\n",
            "24\n",
            "1.6600000000000001\n",
            "1.66\n",
            "Tu edad es: 21\n",
            "Tu edad es: 20\n",
            "La mitad de tu edad es: 10.5\n",
            "La mitad de tu edad es: 10\n",
            "5.0\n",
            "15.0\n",
            "25.0\n"
          ]
        }
      ]
    },
    {
      "cell_type": "code",
      "metadata": {
        "colab": {
          "base_uri": "https://localhost:8080/"
        },
        "id": "bURI2tYJJsTB",
        "outputId": "790f0976-bf63-4785-99ee-2947f184dadd"
      },
      "source": [
        "#operador modulo \n",
        "numero = 21\n",
        "print (numero/2)\n",
        "print(numero//2)\n",
        "\n",
        "#El operador modulo da como resultado el residuo de una divison entera\n",
        "print(numero%2)\n",
        "\n",
        "numero = 24 \n",
        "print (\"Residuo de 24 / 5: \", numero % 5 )\n",
        "\n",
        "print (\"24 es par? = \", numero% 2 == 0)\n",
        "\n",
        "#diferencia\n",
        "print ( \"24 es diferente de 23 = \", numero !=23)\n",
        "print (\"24 es mayor que 23\", numero>23)\n",
        "print (\"24 es menor que 23\", numero<23)\n",
        "\n",
        "print (\"24 es menor o igual que 24\", numero>=24)\n",
        "print (\"24 es menor o igual que 23\", numero<23)\n",
        "\n",
        "print(\"El tipo de dato de la var numero es:\", type(numero))\n",
        "print(\"El tipo de dato de la var numero es:\", type(numero/2.0))"
      ],
      "execution_count": 37,
      "outputs": [
        {
          "output_type": "stream",
          "name": "stdout",
          "text": [
            "10.5\n",
            "10\n",
            "1\n",
            "Residuo de 24 / 5:  4\n",
            "24 es par? =  True\n",
            "24 es diferente de 23 =  True\n",
            "24 es mayor que 23 True\n",
            "24 es menor que 23 False\n",
            "24 es menor o igual que 24 True\n",
            "24 es menor o igual que 23 False\n",
            "El tipo de dato de la var numero es: <class 'int'>\n",
            "El tipo de dato de la var numero es: <class 'float'>\n"
          ]
        }
      ]
    },
    {
      "cell_type": "code",
      "metadata": {
        "colab": {
          "base_uri": "https://localhost:8080/"
        },
        "id": "bbg7NVD3ploQ",
        "outputId": "b55e8857-e90d-4b5a-e4b8-1ddf1011d1b9"
      },
      "source": [
        "\n",
        "nombre = \"pablo\"\n",
        "carrera = \"ingenieria en computacion \"\n",
        "frase = \"\"\"El conocimiento me persigue,...\n",
        "pero\n",
        "yo soy mas rapido \n",
        "\"\"\"\n",
        "print (nombre)\n",
        "print(carrera)\n",
        "print(frase)\n",
        "\n",
        "#La funcion type de Phyton  te devuelve el tipo de dato de una variable (o e)\n",
        "print (type(nombre))\n",
        "\n",
        "paterno = str (\"macedo\")\n",
        "print (paterno)"
      ],
      "execution_count": 8,
      "outputs": [
        {
          "output_type": "stream",
          "name": "stdout",
          "text": [
            "pablo\n",
            "ingenieria en computacion \n",
            "El conocimiento me persigue,...\n",
            "pero\n",
            "yo soy mas rapido \n",
            "\n",
            "<class 'str'>\n",
            "macedo\n"
          ]
        }
      ]
    },
    {
      "cell_type": "markdown",
      "metadata": {
        "id": "VmfvZ2lNpvMx"
      },
      "source": [
        "#Tipo de dato strin (str) en Phyton \n",
        "-Se maneja como un arreglo  (tipo de dato compuesto)\n",
        "- Se puede acceder a los elemtos de el string por medio del indice del caracter.\n",
        "-Mutable\n",
        "-Tiene metodos utiles (potentes)\n",
        "-Slicing\n",
        "\n"
      ]
    }
  ]
}