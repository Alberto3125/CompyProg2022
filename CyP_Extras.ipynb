{
  "nbformat": 4,
  "nbformat_minor": 0,
  "metadata": {
    "colab": {
      "name": "CyP_Extras.ipynb",
      "provenance": [],
      "authorship_tag": "ABX9TyNMYb7Xzrd+F3uiKcXpRMz1",
      "include_colab_link": true
    },
    "kernelspec": {
      "name": "python3",
      "display_name": "Python 3"
    },
    "language_info": {
      "name": "python"
    }
  },
  "cells": [
    {
      "cell_type": "markdown",
      "metadata": {
        "id": "view-in-github",
        "colab_type": "text"
      },
      "source": [
        "<a href=\"https://colab.research.google.com/github/Alberto3125/CompyProg2022/blob/main/CyP_Extras.ipynb\" target=\"_parent\"><img src=\"https://colab.research.google.com/assets/colab-badge.svg\" alt=\"Open In Colab\"/></a>"
      ]
    },
    {
      "cell_type": "code",
      "execution_count": 10,
      "metadata": {
        "id": "FS7YrTaUDW-o"
      },
      "outputs": [],
      "source": [
        "habitaciones=[]\n",
        "\n",
        "hx={\"numero\": 0,\n",
        "    \"tipo\":\"sencilla\",\n",
        "    \"costo\":0.0,\n",
        "    \"dias\":0,\n",
        "    \"Huespedes\": [],\n",
        "    \"Comidas\" : 0 \n",
        "\n",
        "    }\n",
        "def menu():\n",
        "    print(\"1.-) Check in\")\n",
        "    print(\"2.-) Registro de alimentos\")\n",
        "    print(\"3.-) Check out\")\n",
        "    print(\"0.-) Salir del sistema\")\n",
        "\n",
        "def menu_habitacion ( hx ): \n",
        "    opcion = 1\n",
        "    while opcion !=0:\n",
        "        print(\"1) Hab. sencilla\")\n",
        "        print(\"2) Hab. doble\")\n",
        "        print(\"1) Junior suite\")\n",
        "        opcion = int(input(\"¿Tipo de habitacion?: \"))\n",
        "        if opcion ==1: \n",
        "            hx['costo']=800.0\n",
        "            hx['tipo']=\"sencilla\"\n",
        "        elif opcion ==2:\n",
        "            hx['costo']=1200.0\n",
        "            hx['tipo']=\"doble\"\n",
        "        elif opcion ==3:\n",
        "            hx['costo']=1800.0\n",
        "            hx['tipo']=\"Junior suite\"\n",
        "            #imprimir en pantalla habitaciones ocupadas \n",
        "            hx['numero']=int(input(\"Numero de habitacion: \"))   \n",
        "        else: \n",
        "            print(\"Opcion no valida\")  \n",
        "         #imprimir en pantalla habitaciones ocupadas \n",
        "        hx['numero']=int(input(\"Numero de habitacion: \"))\n",
        "        return hx\n",
        "        \n"
      ]
    },
    {
      "cell_type": "code",
      "source": [
        "opcion = 1 \n",
        "while opcion !=0:\n",
        "    #Pintar el menu\n",
        "    menu()\n",
        "    opcion = int(input(\"Introduce tu eleccion: \"))\n",
        "    print(f\"Elegiste {opcion}...\")\n",
        "    #Aqui va algo mas del problema  \n",
        "    #Elif seleccion multiple.-\n",
        "    if opcion== 1:\n",
        "        print(\"--------Realizando Check_In-----------\")\n",
        "        #Tipo de habitacion.\n",
        "        hab = menu_habitacion( hx.copy() )\n",
        "        #menu de 3 tipos de hab?¿\n",
        "        #Total de dias \n",
        "        hab[\"dias\"]=int(input(\"¿Cuantos dias?: \"))#copia fisica\n",
        "        # Capturar nombre y apellido paterno 1 ...3 \n",
        "        if hab['tipo']==\"sencilla\" :\n",
        "            huesped={}\n",
        "            huesped['nombre'] = input(\"nombre del huesped:\")\n",
        "            huesped['paterno'] = input(\"apellido del huesped:\")\n",
        "            hab.huespedes.append(huesped)\n",
        "        elif hab['tipo']== \"doble\":\n",
        "            for numero \n",
        "        #Registrar en una variable global\n",
        "        habitaciones.append(hab) \n",
        "        print(habitaciones)\n",
        "    elif opcion == 2 : \n",
        "        print(\"------Realizando registro de alimentos-----\")\n",
        "\n",
        "    elif opcion ==3:\n",
        "        print(\"-----Realizando check-out-----\")\n",
        "\n",
        "    elif opcion == 0:\n",
        "        print(\"-----Adios-----\")\n",
        "\n",
        "    else:\n",
        "        print(\"-----OPCION NO VALIDA-----\") \n",
        "\n"
      ],
      "metadata": {
        "colab": {
          "base_uri": "https://localhost:8080/",
          "height": 886
        },
        "id": "2R8x7-eED-sU",
        "outputId": "bf48c15b-6846-404c-fae2-e3a5620f5a46"
      },
      "execution_count": 13,
      "outputs": [
        {
          "output_type": "stream",
          "name": "stdout",
          "text": [
            "1.-) Check in\n",
            "2.-) Registro de alimentos\n",
            "3.-) Check out\n",
            "0.-) Salir del sistema\n",
            "Introduce tu eleccion: 1\n",
            "Elegiste 1...\n",
            "--------Realizando Check_In-----------\n",
            "1) Hab. sencilla\n",
            "2) Hab. doble\n",
            "1) Junior suite\n",
            "¿Tipo de habitacion?: 101\n",
            "Opcion no valida\n",
            "Numero de habitacion: 101\n",
            "¿Cuantos dias?: 5\n",
            "[{'numero': 101, 'tipo': 'sencilla', 'costo': 800.0, 'dias': 0, 'Huespedes': [], 'Comidas': 0}, {'numero': 101, 'tipo': 'sencilla', 'costo': 800.0, 'dias': 0, 'Huespedes': [], 'Comidas': 0}, {'numero': 101, 'tipo': 'sencilla', 'costo': 800.0, 'dias': 5, 'Huespedes': [], 'Comidas': 0}]\n",
            "1.-) Check in\n",
            "2.-) Registro de alimentos\n",
            "3.-) Check out\n",
            "0.-) Salir del sistema\n"
          ]
        },
        {
          "output_type": "error",
          "ename": "KeyboardInterrupt",
          "evalue": "ignored",
          "traceback": [
            "\u001b[0;31m---------------------------------------------------------------------------\u001b[0m",
            "\u001b[0;31mKeyboardInterrupt\u001b[0m                         Traceback (most recent call last)",
            "\u001b[0;32m/usr/local/lib/python3.7/dist-packages/ipykernel/kernelbase.py\u001b[0m in \u001b[0;36m_input_request\u001b[0;34m(self, prompt, ident, parent, password)\u001b[0m\n\u001b[1;32m    728\u001b[0m             \u001b[0;32mtry\u001b[0m\u001b[0;34m:\u001b[0m\u001b[0;34m\u001b[0m\u001b[0;34m\u001b[0m\u001b[0m\n\u001b[0;32m--> 729\u001b[0;31m                 \u001b[0mident\u001b[0m\u001b[0;34m,\u001b[0m \u001b[0mreply\u001b[0m \u001b[0;34m=\u001b[0m \u001b[0mself\u001b[0m\u001b[0;34m.\u001b[0m\u001b[0msession\u001b[0m\u001b[0;34m.\u001b[0m\u001b[0mrecv\u001b[0m\u001b[0;34m(\u001b[0m\u001b[0mself\u001b[0m\u001b[0;34m.\u001b[0m\u001b[0mstdin_socket\u001b[0m\u001b[0;34m,\u001b[0m \u001b[0;36m0\u001b[0m\u001b[0;34m)\u001b[0m\u001b[0;34m\u001b[0m\u001b[0;34m\u001b[0m\u001b[0m\n\u001b[0m\u001b[1;32m    730\u001b[0m             \u001b[0;32mexcept\u001b[0m \u001b[0mException\u001b[0m\u001b[0;34m:\u001b[0m\u001b[0;34m\u001b[0m\u001b[0;34m\u001b[0m\u001b[0m\n",
            "\u001b[0;32m/usr/local/lib/python3.7/dist-packages/jupyter_client/session.py\u001b[0m in \u001b[0;36mrecv\u001b[0;34m(self, socket, mode, content, copy)\u001b[0m\n\u001b[1;32m    802\u001b[0m         \u001b[0;32mtry\u001b[0m\u001b[0;34m:\u001b[0m\u001b[0;34m\u001b[0m\u001b[0;34m\u001b[0m\u001b[0m\n\u001b[0;32m--> 803\u001b[0;31m             \u001b[0mmsg_list\u001b[0m \u001b[0;34m=\u001b[0m \u001b[0msocket\u001b[0m\u001b[0;34m.\u001b[0m\u001b[0mrecv_multipart\u001b[0m\u001b[0;34m(\u001b[0m\u001b[0mmode\u001b[0m\u001b[0;34m,\u001b[0m \u001b[0mcopy\u001b[0m\u001b[0;34m=\u001b[0m\u001b[0mcopy\u001b[0m\u001b[0;34m)\u001b[0m\u001b[0;34m\u001b[0m\u001b[0;34m\u001b[0m\u001b[0m\n\u001b[0m\u001b[1;32m    804\u001b[0m         \u001b[0;32mexcept\u001b[0m \u001b[0mzmq\u001b[0m\u001b[0;34m.\u001b[0m\u001b[0mZMQError\u001b[0m \u001b[0;32mas\u001b[0m \u001b[0me\u001b[0m\u001b[0;34m:\u001b[0m\u001b[0;34m\u001b[0m\u001b[0;34m\u001b[0m\u001b[0m\n",
            "\u001b[0;32m/usr/local/lib/python3.7/dist-packages/zmq/sugar/socket.py\u001b[0m in \u001b[0;36mrecv_multipart\u001b[0;34m(self, flags, copy, track)\u001b[0m\n\u001b[1;32m    624\u001b[0m         \"\"\"\n\u001b[0;32m--> 625\u001b[0;31m         \u001b[0mparts\u001b[0m \u001b[0;34m=\u001b[0m \u001b[0;34m[\u001b[0m\u001b[0mself\u001b[0m\u001b[0;34m.\u001b[0m\u001b[0mrecv\u001b[0m\u001b[0;34m(\u001b[0m\u001b[0mflags\u001b[0m\u001b[0;34m,\u001b[0m \u001b[0mcopy\u001b[0m\u001b[0;34m=\u001b[0m\u001b[0mcopy\u001b[0m\u001b[0;34m,\u001b[0m \u001b[0mtrack\u001b[0m\u001b[0;34m=\u001b[0m\u001b[0mtrack\u001b[0m\u001b[0;34m)\u001b[0m\u001b[0;34m]\u001b[0m\u001b[0;34m\u001b[0m\u001b[0;34m\u001b[0m\u001b[0m\n\u001b[0m\u001b[1;32m    626\u001b[0m         \u001b[0;31m# have first part already, only loop while more to receive\u001b[0m\u001b[0;34m\u001b[0m\u001b[0;34m\u001b[0m\u001b[0;34m\u001b[0m\u001b[0m\n",
            "\u001b[0;32mzmq/backend/cython/socket.pyx\u001b[0m in \u001b[0;36mzmq.backend.cython.socket.Socket.recv\u001b[0;34m()\u001b[0m\n",
            "\u001b[0;32mzmq/backend/cython/socket.pyx\u001b[0m in \u001b[0;36mzmq.backend.cython.socket.Socket.recv\u001b[0;34m()\u001b[0m\n",
            "\u001b[0;32mzmq/backend/cython/socket.pyx\u001b[0m in \u001b[0;36mzmq.backend.cython.socket._recv_copy\u001b[0;34m()\u001b[0m\n",
            "\u001b[0;32m/usr/local/lib/python3.7/dist-packages/zmq/backend/cython/checkrc.pxd\u001b[0m in \u001b[0;36mzmq.backend.cython.checkrc._check_rc\u001b[0;34m()\u001b[0m\n",
            "\u001b[0;31mKeyboardInterrupt\u001b[0m: ",
            "\nDuring handling of the above exception, another exception occurred:\n",
            "\u001b[0;31mKeyboardInterrupt\u001b[0m                         Traceback (most recent call last)",
            "\u001b[0;32m<ipython-input-13-e4387f5b9c8c>\u001b[0m in \u001b[0;36m<module>\u001b[0;34m()\u001b[0m\n\u001b[1;32m      3\u001b[0m     \u001b[0;31m#Pintar el menu\u001b[0m\u001b[0;34m\u001b[0m\u001b[0;34m\u001b[0m\u001b[0;34m\u001b[0m\u001b[0m\n\u001b[1;32m      4\u001b[0m     \u001b[0mmenu\u001b[0m\u001b[0;34m(\u001b[0m\u001b[0;34m)\u001b[0m\u001b[0;34m\u001b[0m\u001b[0;34m\u001b[0m\u001b[0m\n\u001b[0;32m----> 5\u001b[0;31m     \u001b[0mopcion\u001b[0m \u001b[0;34m=\u001b[0m \u001b[0mint\u001b[0m\u001b[0;34m(\u001b[0m\u001b[0minput\u001b[0m\u001b[0;34m(\u001b[0m\u001b[0;34m\"Introduce tu eleccion: \"\u001b[0m\u001b[0;34m)\u001b[0m\u001b[0;34m)\u001b[0m\u001b[0;34m\u001b[0m\u001b[0;34m\u001b[0m\u001b[0m\n\u001b[0m\u001b[1;32m      6\u001b[0m     \u001b[0mprint\u001b[0m\u001b[0;34m(\u001b[0m\u001b[0;34mf\"Elegiste {opcion}...\"\u001b[0m\u001b[0;34m)\u001b[0m\u001b[0;34m\u001b[0m\u001b[0;34m\u001b[0m\u001b[0m\n\u001b[1;32m      7\u001b[0m     \u001b[0;31m#Aqui va algo mas del problema\u001b[0m\u001b[0;34m\u001b[0m\u001b[0;34m\u001b[0m\u001b[0;34m\u001b[0m\u001b[0m\n",
            "\u001b[0;32m/usr/local/lib/python3.7/dist-packages/ipykernel/kernelbase.py\u001b[0m in \u001b[0;36mraw_input\u001b[0;34m(self, prompt)\u001b[0m\n\u001b[1;32m    702\u001b[0m             \u001b[0mself\u001b[0m\u001b[0;34m.\u001b[0m\u001b[0m_parent_ident\u001b[0m\u001b[0;34m,\u001b[0m\u001b[0;34m\u001b[0m\u001b[0;34m\u001b[0m\u001b[0m\n\u001b[1;32m    703\u001b[0m             \u001b[0mself\u001b[0m\u001b[0;34m.\u001b[0m\u001b[0m_parent_header\u001b[0m\u001b[0;34m,\u001b[0m\u001b[0;34m\u001b[0m\u001b[0;34m\u001b[0m\u001b[0m\n\u001b[0;32m--> 704\u001b[0;31m             \u001b[0mpassword\u001b[0m\u001b[0;34m=\u001b[0m\u001b[0;32mFalse\u001b[0m\u001b[0;34m,\u001b[0m\u001b[0;34m\u001b[0m\u001b[0;34m\u001b[0m\u001b[0m\n\u001b[0m\u001b[1;32m    705\u001b[0m         )\n\u001b[1;32m    706\u001b[0m \u001b[0;34m\u001b[0m\u001b[0m\n",
            "\u001b[0;32m/usr/local/lib/python3.7/dist-packages/ipykernel/kernelbase.py\u001b[0m in \u001b[0;36m_input_request\u001b[0;34m(self, prompt, ident, parent, password)\u001b[0m\n\u001b[1;32m    732\u001b[0m             \u001b[0;32mexcept\u001b[0m \u001b[0mKeyboardInterrupt\u001b[0m\u001b[0;34m:\u001b[0m\u001b[0;34m\u001b[0m\u001b[0;34m\u001b[0m\u001b[0m\n\u001b[1;32m    733\u001b[0m                 \u001b[0;31m# re-raise KeyboardInterrupt, to truncate traceback\u001b[0m\u001b[0;34m\u001b[0m\u001b[0;34m\u001b[0m\u001b[0;34m\u001b[0m\u001b[0m\n\u001b[0;32m--> 734\u001b[0;31m                 \u001b[0;32mraise\u001b[0m \u001b[0mKeyboardInterrupt\u001b[0m\u001b[0;34m\u001b[0m\u001b[0;34m\u001b[0m\u001b[0m\n\u001b[0m\u001b[1;32m    735\u001b[0m             \u001b[0;32melse\u001b[0m\u001b[0;34m:\u001b[0m\u001b[0;34m\u001b[0m\u001b[0;34m\u001b[0m\u001b[0m\n\u001b[1;32m    736\u001b[0m                 \u001b[0;32mbreak\u001b[0m\u001b[0;34m\u001b[0m\u001b[0;34m\u001b[0m\u001b[0m\n",
            "\u001b[0;31mKeyboardInterrupt\u001b[0m: "
          ]
        }
      ]
    },
    {
      "cell_type": "code",
      "source": [
        "habitaciones = []\n",
        "\n",
        "hx={\"numero\": 101,\n",
        "    \"tipo\":\"sencilla\",\n",
        "    \"costo\":800.0,\n",
        "    \"dias\":3,\n",
        "    \"Huespedes\": [{\"Nombre\":\"Jose\",\"paterno\":\"Perez\"}],\n",
        "    \"Comidas\" : 0 \n",
        "\n",
        "    }\n",
        "habitaciones.append(hx)\n",
        "print(habitaciones)\n",
        "\n",
        "hx2={\"numero\": 202,\n",
        "    \"tipo\":\"doble\",\n",
        "    \"costo\":1200.0,\n",
        "    \"dias\":4,\n",
        "    \"Huespedes\": [{\"Nombre\":\"Maria\",\"paterno\":\"Perez\"} , \n",
        "                  {\"Nombre\":\"Juana\",\"paterno\":\"Perez\"}],\n",
        "    \"Comidas\" : 0 \n",
        "\n",
        "    }\n",
        "habitaciones.append(hx2)\n",
        "print(habitaciones)\n"
      ],
      "metadata": {
        "colab": {
          "base_uri": "https://localhost:8080/"
        },
        "id": "aXgOlUMRI-w1",
        "outputId": "554f9f46-980b-483e-fd8a-d7d0c4cd60ef"
      },
      "execution_count": 9,
      "outputs": [
        {
          "output_type": "stream",
          "name": "stdout",
          "text": [
            "[{'numero': 101, 'tipo': 'sencilla', 'costo': 800.0, 'dias': 3, 'Huespedes': [{'Nombre': 'Jose', 'paterno': 'Perez'}], 'Comidas': 0}]\n",
            "[{'numero': 101, 'tipo': 'sencilla', 'costo': 800.0, 'dias': 3, 'Huespedes': [{'Nombre': 'Jose', 'paterno': 'Perez'}], 'Comidas': 0}, {'numero': 202, 'tipo': 'doble', 'costo': 1200.0, 'dias': 4, 'Huespedes': [{'Nombre': 'Maria', 'paterno': 'Perez'}, {'Nombre': 'Juana', 'paterno': 'Perez'}], 'Comidas': 0}]\n"
          ]
        }
      ]
    },
    {
      "cell_type": "markdown",
      "source": [
        "(1).- Check in de huespedes \n",
        "\n",
        "(2).- Registrar comidas/cenas de huespedes\n",
        "(3).- Hacer un check_out"
      ],
      "metadata": {
        "id": "x-2vQ3S1EMvz"
      }
    }
  ]
}