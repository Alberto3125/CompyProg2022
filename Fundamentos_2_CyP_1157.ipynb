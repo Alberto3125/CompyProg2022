{
  "nbformat": 4,
  "nbformat_minor": 0,
  "metadata": {
    "colab": {
      "name": "Fundamentos 2_CyP_1157.ipynb",
      "provenance": [],
      "collapsed_sections": [],
      "authorship_tag": "ABX9TyOUd4FyJydsbjzEuGB9xPt3",
      "include_colab_link": true
    },
    "kernelspec": {
      "name": "python3",
      "display_name": "Python 3"
    },
    "language_info": {
      "name": "python"
    }
  },
  "cells": [
    {
      "cell_type": "markdown",
      "metadata": {
        "id": "view-in-github",
        "colab_type": "text"
      },
      "source": [
        "<a href=\"https://colab.research.google.com/github/Alberto3125/CompyProg2022/blob/main/Fundamentos_2_CyP_1157.ipynb\" target=\"_parent\"><img src=\"https://colab.research.google.com/assets/colab-badge.svg\" alt=\"Open In Colab\"/></a>"
      ]
    },
    {
      "cell_type": "code",
      "metadata": {
        "id": "LosYjiWPFV7y"
      },
      "source": [
        ""
      ],
      "execution_count": null,
      "outputs": []
    },
    {
      "cell_type": "markdown",
      "metadata": {
        "id": "oef-b_KJFhtT"
      },
      "source": [
        "04/11/2021\n",
        "#Tipos de datos estructurados de pyton \n",
        "1. Listas\n",
        "2. Tuplas\n",
        "3. Diccionarios \n",
        "4. Conjuntos (opcional)"
      ]
    },
    {
      "cell_type": "markdown",
      "metadata": {
        "id": "n5ha75lOFxd1"
      },
      "source": [
        "#Listas\n",
        "-Tipo de dato que agrupa variables o valores.\n",
        "-Estructura secuencial (undexados empezando por 0)\n",
        "\n",
        "-Se declara de dos fromas#\n",
        "- Usando []\n",
        "-Usando list()\n",
        "-usando un generador [var for x in range(10)]\n",
        "- Puede contener tipos de dato diversos (En otros lenguajes de prog.eso no es posible de forma directa)\n",
        "-Los elementos internos se seleccionan con []\n",
        "- Soporta slicing\n",
        "-GENERADORES\n",
        "- Son MUTABLES\n",
        "- Al ser una clase cobtiene muchos metodos utilies\n"
      ]
    },
    {
      "cell_type": "code",
      "metadata": {
        "colab": {
          "base_uri": "https://localhost:8080/"
        },
        "id": "_TATFlS2Gkg2",
        "outputId": "b667714a-3de7-4e14-a5b4-59c45c2a8592"
      },
      "source": [
        "numeros = [10, 5, 2, 3, 1]\n",
        "print(numeros)\n",
        "\n",
        "numeros2= list()\n",
        "numeros2.append(10)\n",
        "numeros2.append(5)\n",
        "numeros2.append(2)\n",
        "numeros2.append(3)\n",
        "numeros2.append(1)\n",
        "print(numeros2)\n",
        "\n",
        "numeros[2] = 20\n",
        "print(numeros)\n",
        "numeros[-1] = 33\n",
        "print(numeros)\n",
        "numeros.append(1)\n",
        "print(numeros)\n"
      ],
      "execution_count": 30,
      "outputs": [
        {
          "output_type": "stream",
          "name": "stdout",
          "text": [
            "[10, 5, 2, 3, 1]\n",
            "[10, 5, 2, 3, 1]\n",
            "[10, 5, 20, 3, 1]\n",
            "[10, 5, 20, 3, 33]\n",
            "[10, 5, 20, 3, 33, 1]\n"
          ]
        }
      ]
    },
    {
      "cell_type": "code",
      "metadata": {
        "colab": {
          "base_uri": "https://localhost:8080/"
        },
        "id": "D9W7ZZrZIf18",
        "outputId": "16c5f46f-7bf1-4095-a612-d33bf57d6147"
      },
      "source": [
        "# Tipos diversos \n",
        "\n",
        "cosas= [12, 2, True, \"Jose\", 1.57 , [\"pera\", \"kiwi\", \"uva\"]]\n",
        "print (cosas)\n",
        "print(cosas[1])\n",
        "print(cosas[4])\n",
        "print(cosas[5])\n",
        "print(cosas[5][1])\n",
        "print(cosas[3][1:3:])\n",
        "cosas[3]= cosas [j].upper()"
      ],
      "execution_count": 12,
      "outputs": [
        {
          "output_type": "stream",
          "name": "stdout",
          "text": [
            "[12, 2, True, 'Jose', 1.57, ['pera', 'kiwi', 'uva']]\n",
            "2\n",
            "1.57\n",
            "['pera', 'kiwi', 'uva']\n",
            "kiwi\n",
            "os\n"
          ]
        }
      ]
    },
    {
      "cell_type": "code",
      "metadata": {
        "colab": {
          "base_uri": "https://localhost:8080/"
        },
        "id": "KQpbnkwML3eb",
        "outputId": "41a71219-f378-4411-ba4d-a0bd89b0aa08"
      },
      "source": [
        "numeros = [1, 2, 3, 4, 5, 6, 7, 8, 9, 10, 11]\n",
        "print (numeros)\n",
        "#Slicing\n",
        "#1.-4 al 8?\n",
        "print(numeros[3:8] )\n",
        "#2.- [9, 10]\n",
        "print(numeros[8:10])\n",
        "print(numeros[-3:-1])\n",
        "#3.- Imprimir la lista en orden inverso \n",
        "print (numeros[::-1])"
      ],
      "execution_count": 23,
      "outputs": [
        {
          "output_type": "stream",
          "name": "stdout",
          "text": [
            "[1, 2, 3, 4, 5, 6, 7, 8, 9, 10, 11]\n",
            "[4, 5, 6, 7, 8]\n",
            "[9, 10]\n",
            "[9, 10]\n",
            "[11, 10, 9, 8, 7, 6, 5, 4, 3, 2, 1]\n"
          ]
        }
      ]
    },
    {
      "cell_type": "code",
      "metadata": {
        "colab": {
          "base_uri": "https://localhost:8080/"
        },
        "id": "P8F-nsY0Pqkq",
        "outputId": "7f3f9111-9904-4f83-cef4-9c6c3e3ac85a"
      },
      "source": [
        "# Crear una lista con u generador \n",
        "numeros = [x*3 for x in range (101)]\n",
        "print (numeros)"
      ],
      "execution_count": 25,
      "outputs": [
        {
          "output_type": "stream",
          "name": "stdout",
          "text": [
            "[0, 3, 6, 9, 12, 15, 18, 21, 24, 27, 30, 33, 36, 39, 42, 45, 48, 51, 54, 57, 60, 63, 66, 69, 72, 75, 78, 81, 84, 87, 90, 93, 96, 99, 102, 105, 108, 111, 114, 117, 120, 123, 126, 129, 132, 135, 138, 141, 144, 147, 150, 153, 156, 159, 162, 165, 168, 171, 174, 177, 180, 183, 186, 189, 192, 195, 198, 201, 204, 207, 210, 213, 216, 219, 222, 225, 228, 231, 234, 237, 240, 243, 246, 249, 252, 255, 258, 261, 264, 267, 270, 273, 276, 279, 282, 285, 288, 291, 294, 297, 300]\n"
          ]
        }
      ]
    },
    {
      "cell_type": "markdown",
      "metadata": {
        "id": "_-o07OTNQaGL"
      },
      "source": [
        "#Funcion range()\n",
        "tiene los mismos componentes que slicing\n",
        "int, stop, incremento\n",
        "range(1, 101, 1)\n"
      ]
    },
    {
      "cell_type": "code",
      "metadata": {
        "colab": {
          "base_uri": "https://localhost:8080/"
        },
        "id": "FKzdEtLNQscq",
        "outputId": "75409881-709f-449b-8f7d-e87b2edd898d"
      },
      "source": [
        "numeros = [x for x in range (50, 101, 5)]\n",
        "print (numeros)"
      ],
      "execution_count": 28,
      "outputs": [
        {
          "output_type": "stream",
          "name": "stdout",
          "text": [
            "[50, 55, 60, 65, 70, 75, 80, 85, 90, 95, 100]\n"
          ]
        }
      ]
    },
    {
      "cell_type": "markdown",
      "metadata": {
        "id": "ritvPUqoRIgY"
      },
      "source": [
        "# los metodos disponibles de las listas "
      ]
    },
    {
      "cell_type": "code",
      "metadata": {
        "colab": {
          "base_uri": "https://localhost:8080/"
        },
        "id": "t7Xh_79VRQHA",
        "outputId": "2bd02273-ee4e-4ef3-a190-fcff44cd357d"
      },
      "source": [
        "dir (list)"
      ],
      "execution_count": 29,
      "outputs": [
        {
          "output_type": "execute_result",
          "data": {
            "text/plain": [
              "['__add__',\n",
              " '__class__',\n",
              " '__contains__',\n",
              " '__delattr__',\n",
              " '__delitem__',\n",
              " '__dir__',\n",
              " '__doc__',\n",
              " '__eq__',\n",
              " '__format__',\n",
              " '__ge__',\n",
              " '__getattribute__',\n",
              " '__getitem__',\n",
              " '__gt__',\n",
              " '__hash__',\n",
              " '__iadd__',\n",
              " '__imul__',\n",
              " '__init__',\n",
              " '__init_subclass__',\n",
              " '__iter__',\n",
              " '__le__',\n",
              " '__len__',\n",
              " '__lt__',\n",
              " '__mul__',\n",
              " '__ne__',\n",
              " '__new__',\n",
              " '__reduce__',\n",
              " '__reduce_ex__',\n",
              " '__repr__',\n",
              " '__reversed__',\n",
              " '__rmul__',\n",
              " '__setattr__',\n",
              " '__setitem__',\n",
              " '__sizeof__',\n",
              " '__str__',\n",
              " '__subclasshook__',\n",
              " 'append',\n",
              " 'clear',\n",
              " 'copy',\n",
              " 'count',\n",
              " 'extend',\n",
              " 'index',\n",
              " 'insert',\n",
              " 'pop',\n",
              " 'remove',\n",
              " 'reverse',\n",
              " 'sort']"
            ]
          },
          "metadata": {},
          "execution_count": 29
        }
      ]
    },
    {
      "cell_type": "code",
      "metadata": {
        "colab": {
          "base_uri": "https://localhost:8080/"
        },
        "id": "XMBfRd0dSXCa",
        "outputId": "e5feca21-6148-4c66-a3dc-6c0015986588"
      },
      "source": [
        "numeros = [4, 1, 15, 8, 22, 34, 50]\n",
        "print(numeros)\n",
        "numeros.append(99)\n",
        "print(numeros)\n",
        "#numeros.clear()\n",
        "#print(numeros)\n",
        "# Una alternativa  numeros = []\n",
        "\n",
        "frutas = [\"uvas\", \"kiwi\", \"manzana\"]\n",
        "copia= frutas \n",
        "print(frutas)\n",
        "print(copia)\n",
        "frutas.append(\"naranja\")\n",
        "print(frutas)\n",
        "print(copia)\n",
        "\n",
        "colores = [\"rojo\", \"azul\", \"Blanco\"]\n",
        "copia2 = colores.copy()\n",
        "print(colores)\n",
        "print(copia2)\n",
        "colores.append(\"verde\")\n",
        "print(colores)\n",
        "print(copia2)\n",
        "\n",
        "print (\"numero de veces que aparece el 15\", numeros.count(15))\n",
        "\n",
        "#extend\n",
        "\n",
        "nombres = [\"jose\", \"pedro\", \"karina\"]\n",
        "otrosnombres = [\"josue\", \"diana\", \"dalia\"]\n",
        "print(nombres)\n",
        "print(otrosnombres)\n",
        "\n",
        "nombres = nombres + otrosnombres\n",
        "print(nombres)\n",
        "print(otrosnombres)\n",
        "\n",
        "#lo mismo con el metod extend\n",
        "\n",
        "otrosnombres.extend([\"jesus\", \"maria\", \"jose\"])\n",
        "print(otrosnombres)\n",
        "\n",
        "print(\"jesus esta en la posicion:\", otrosnombres.index(\"jesus\"))\n",
        "otrosnombres.insert(4, \"Espiritu santo\")\n",
        "print (otrosnombres)\n",
        "\n",
        "#pop\n",
        "resultados = otrosnombres.pop()\n",
        "print(otrosnombres)\n",
        "print(resultados)"
      ],
      "execution_count": 41,
      "outputs": [
        {
          "output_type": "stream",
          "name": "stdout",
          "text": [
            "[4, 1, 15, 8, 22, 34, 50]\n",
            "[4, 1, 15, 8, 22, 34, 50, 99]\n",
            "['uvas', 'kiwi', 'manzana']\n",
            "['uvas', 'kiwi', 'manzana']\n",
            "['uvas', 'kiwi', 'manzana', 'naranja']\n",
            "['uvas', 'kiwi', 'manzana', 'naranja']\n",
            "['rojo', 'azul', 'Blanco']\n",
            "['rojo', 'azul', 'Blanco']\n",
            "['rojo', 'azul', 'Blanco', 'verde']\n",
            "['rojo', 'azul', 'Blanco']\n",
            "numero de veces que aparece el 15 1\n",
            "['jose', 'pedro', 'karina']\n",
            "['josue', 'diana', 'dalia']\n",
            "['jose', 'pedro', 'karina', 'josue', 'diana', 'dalia']\n",
            "['josue', 'diana', 'dalia']\n",
            "['josue', 'diana', 'dalia', 'jesus', 'maria', 'jose']\n",
            "jesus esta en la posicion: 3\n",
            "['josue', 'diana', 'dalia', 'jesus', 'Espiritu santo', 'maria', 'jose']\n",
            "['josue', 'diana', 'dalia', 'jesus', 'Espiritu santo', 'maria']\n",
            "jose\n"
          ]
        }
      ]
    }
  ]
}