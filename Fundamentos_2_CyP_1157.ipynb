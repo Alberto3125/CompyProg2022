{
  "nbformat": 4,
  "nbformat_minor": 0,
  "metadata": {
    "colab": {
      "name": "Fundamentos 2_CyP_1157.ipynb",
      "provenance": [],
      "collapsed_sections": [],
      "authorship_tag": "ABX9TyOrMiIJRoUan9TrmIsr3Czq",
      "include_colab_link": true
    },
    "kernelspec": {
      "name": "python3",
      "display_name": "Python 3"
    },
    "language_info": {
      "name": "python"
    }
  },
  "cells": [
    {
      "cell_type": "markdown",
      "metadata": {
        "id": "view-in-github",
        "colab_type": "text"
      },
      "source": [
        "<a href=\"https://colab.research.google.com/github/Alberto3125/CompyProg2022/blob/main/Fundamentos_2_CyP_1157.ipynb\" target=\"_parent\"><img src=\"https://colab.research.google.com/assets/colab-badge.svg\" alt=\"Open In Colab\"/></a>"
      ]
    },
    {
      "cell_type": "code",
      "metadata": {
        "id": "LosYjiWPFV7y"
      },
      "source": [
        ""
      ],
      "execution_count": null,
      "outputs": []
    },
    {
      "cell_type": "markdown",
      "metadata": {
        "id": "oef-b_KJFhtT"
      },
      "source": [
        "04/11/2021\n",
        "#Tipos de datos estructurados de pyton \n",
        "1. Listas\n",
        "2. Tuplas\n",
        "3. Diccionarios \n",
        "4. Conjuntos (opcional)"
      ]
    },
    {
      "cell_type": "markdown",
      "metadata": {
        "id": "n5ha75lOFxd1"
      },
      "source": [
        "#Listas\n",
        "-Tipo de dato que agrupa variables o valores.\n",
        "-Estructura secuencial (undexados empezando por 0)\n",
        "\n",
        "-Se declara de dos fromas#\n",
        "- Usando []\n",
        "-Usando list()\n",
        "-usando un generador [var for x in range(10)]\n",
        "- Puede contener tipos de dato diversos (En otros lenguajes de prog.eso no es posible de forma directa)\n",
        "-Los elementos internos se seleccionan con []\n",
        "- Soporta slicing\n",
        "-GENERADORES\n",
        "- Son MUTABLES\n",
        "- Al ser una clase cobtiene muchos metodos utilies\n"
      ]
    },
    {
      "cell_type": "code",
      "metadata": {
        "colab": {
          "base_uri": "https://localhost:8080/"
        },
        "id": "_TATFlS2Gkg2",
        "outputId": "b667714a-3de7-4e14-a5b4-59c45c2a8592"
      },
      "source": [
        "numeros = [10, 5, 2, 3, 1]\n",
        "print(numeros)\n",
        "\n",
        "numeros2= list()\n",
        "numeros2.append(10)\n",
        "numeros2.append(5)\n",
        "numeros2.append(2)\n",
        "numeros2.append(3)\n",
        "numeros2.append(1)\n",
        "print(numeros2)\n",
        "\n",
        "numeros[2] = 20\n",
        "print(numeros)\n",
        "numeros[-1] = 33\n",
        "print(numeros)\n",
        "numeros.append(1)\n",
        "print(numeros)\n"
      ],
      "execution_count": null,
      "outputs": [
        {
          "output_type": "stream",
          "name": "stdout",
          "text": [
            "[10, 5, 2, 3, 1]\n",
            "[10, 5, 2, 3, 1]\n",
            "[10, 5, 20, 3, 1]\n",
            "[10, 5, 20, 3, 33]\n",
            "[10, 5, 20, 3, 33, 1]\n"
          ]
        }
      ]
    },
    {
      "cell_type": "code",
      "metadata": {
        "colab": {
          "base_uri": "https://localhost:8080/"
        },
        "id": "D9W7ZZrZIf18",
        "outputId": "16c5f46f-7bf1-4095-a612-d33bf57d6147"
      },
      "source": [
        "# Tipos diversos \n",
        "\n",
        "cosas= [12, 2, True, \"Jose\", 1.57 , [\"pera\", \"kiwi\", \"uva\"]]\n",
        "print (cosas)\n",
        "print(cosas[1])\n",
        "print(cosas[4])\n",
        "print(cosas[5])\n",
        "print(cosas[5][1])\n",
        "print(cosas[3][1:3:])\n",
        "cosas[3]= cosas [j].upper()"
      ],
      "execution_count": null,
      "outputs": [
        {
          "output_type": "stream",
          "name": "stdout",
          "text": [
            "[12, 2, True, 'Jose', 1.57, ['pera', 'kiwi', 'uva']]\n",
            "2\n",
            "1.57\n",
            "['pera', 'kiwi', 'uva']\n",
            "kiwi\n",
            "os\n"
          ]
        }
      ]
    },
    {
      "cell_type": "code",
      "metadata": {
        "colab": {
          "base_uri": "https://localhost:8080/"
        },
        "id": "KQpbnkwML3eb",
        "outputId": "41a71219-f378-4411-ba4d-a0bd89b0aa08"
      },
      "source": [
        "numeros = [1, 2, 3, 4, 5, 6, 7, 8, 9, 10, 11]\n",
        "print (numeros)\n",
        "#Slicing\n",
        "#1.-4 al 8?\n",
        "print(numeros[3:8] )\n",
        "#2.- [9, 10]\n",
        "print(numeros[8:10])\n",
        "print(numeros[-3:-1])\n",
        "#3.- Imprimir la lista en orden inverso \n",
        "print (numeros[::-1])"
      ],
      "execution_count": null,
      "outputs": [
        {
          "output_type": "stream",
          "name": "stdout",
          "text": [
            "[1, 2, 3, 4, 5, 6, 7, 8, 9, 10, 11]\n",
            "[4, 5, 6, 7, 8]\n",
            "[9, 10]\n",
            "[9, 10]\n",
            "[11, 10, 9, 8, 7, 6, 5, 4, 3, 2, 1]\n"
          ]
        }
      ]
    },
    {
      "cell_type": "code",
      "metadata": {
        "colab": {
          "base_uri": "https://localhost:8080/"
        },
        "id": "P8F-nsY0Pqkq",
        "outputId": "7f3f9111-9904-4f83-cef4-9c6c3e3ac85a"
      },
      "source": [
        "# Crear una lista con u generador \n",
        "numeros = [x*3 for x in range (101)]\n",
        "print (numeros)"
      ],
      "execution_count": null,
      "outputs": [
        {
          "output_type": "stream",
          "name": "stdout",
          "text": [
            "[0, 3, 6, 9, 12, 15, 18, 21, 24, 27, 30, 33, 36, 39, 42, 45, 48, 51, 54, 57, 60, 63, 66, 69, 72, 75, 78, 81, 84, 87, 90, 93, 96, 99, 102, 105, 108, 111, 114, 117, 120, 123, 126, 129, 132, 135, 138, 141, 144, 147, 150, 153, 156, 159, 162, 165, 168, 171, 174, 177, 180, 183, 186, 189, 192, 195, 198, 201, 204, 207, 210, 213, 216, 219, 222, 225, 228, 231, 234, 237, 240, 243, 246, 249, 252, 255, 258, 261, 264, 267, 270, 273, 276, 279, 282, 285, 288, 291, 294, 297, 300]\n"
          ]
        }
      ]
    },
    {
      "cell_type": "markdown",
      "metadata": {
        "id": "_-o07OTNQaGL"
      },
      "source": [
        "#Funcion range()\n",
        "tiene los mismos componentes que slicing\n",
        "int, stop, incremento\n",
        "range(1, 101, 1)\n"
      ]
    },
    {
      "cell_type": "code",
      "metadata": {
        "colab": {
          "base_uri": "https://localhost:8080/"
        },
        "id": "FKzdEtLNQscq",
        "outputId": "75409881-709f-449b-8f7d-e87b2edd898d"
      },
      "source": [
        "numeros = [x for x in range (50, 101, 5)]\n",
        "print (numeros)"
      ],
      "execution_count": null,
      "outputs": [
        {
          "output_type": "stream",
          "name": "stdout",
          "text": [
            "[50, 55, 60, 65, 70, 75, 80, 85, 90, 95, 100]\n"
          ]
        }
      ]
    },
    {
      "cell_type": "markdown",
      "metadata": {
        "id": "ritvPUqoRIgY"
      },
      "source": [
        "# los metodos disponibles de las listas "
      ]
    },
    {
      "cell_type": "code",
      "metadata": {
        "colab": {
          "base_uri": "https://localhost:8080/"
        },
        "id": "t7Xh_79VRQHA",
        "outputId": "2bd02273-ee4e-4ef3-a190-fcff44cd357d"
      },
      "source": [
        "dir (list)"
      ],
      "execution_count": null,
      "outputs": [
        {
          "output_type": "execute_result",
          "data": {
            "text/plain": [
              "['__add__',\n",
              " '__class__',\n",
              " '__contains__',\n",
              " '__delattr__',\n",
              " '__delitem__',\n",
              " '__dir__',\n",
              " '__doc__',\n",
              " '__eq__',\n",
              " '__format__',\n",
              " '__ge__',\n",
              " '__getattribute__',\n",
              " '__getitem__',\n",
              " '__gt__',\n",
              " '__hash__',\n",
              " '__iadd__',\n",
              " '__imul__',\n",
              " '__init__',\n",
              " '__init_subclass__',\n",
              " '__iter__',\n",
              " '__le__',\n",
              " '__len__',\n",
              " '__lt__',\n",
              " '__mul__',\n",
              " '__ne__',\n",
              " '__new__',\n",
              " '__reduce__',\n",
              " '__reduce_ex__',\n",
              " '__repr__',\n",
              " '__reversed__',\n",
              " '__rmul__',\n",
              " '__setattr__',\n",
              " '__setitem__',\n",
              " '__sizeof__',\n",
              " '__str__',\n",
              " '__subclasshook__',\n",
              " 'append',\n",
              " 'clear',\n",
              " 'copy',\n",
              " 'count',\n",
              " 'extend',\n",
              " 'index',\n",
              " 'insert',\n",
              " 'pop',\n",
              " 'remove',\n",
              " 'reverse',\n",
              " 'sort']"
            ]
          },
          "metadata": {},
          "execution_count": 29
        }
      ]
    },
    {
      "cell_type": "code",
      "metadata": {
        "colab": {
          "base_uri": "https://localhost:8080/"
        },
        "id": "XMBfRd0dSXCa",
        "outputId": "e5feca21-6148-4c66-a3dc-6c0015986588"
      },
      "source": [
        "numeros = [4, 1, 15, 8, 22, 34, 50]\n",
        "print(numeros)\n",
        "numeros.append(99)\n",
        "print(numeros)\n",
        "#numeros.clear()\n",
        "#print(numeros)\n",
        "# Una alternativa  numeros = []\n",
        "\n",
        "frutas = [\"uvas\", \"kiwi\", \"manzana\"]\n",
        "copia= frutas \n",
        "print(frutas)\n",
        "print(copia)\n",
        "frutas.append(\"naranja\")\n",
        "print(frutas)\n",
        "print(copia)\n",
        "\n",
        "colores = [\"rojo\", \"azul\", \"Blanco\"]\n",
        "copia2 = colores.copy()\n",
        "print(colores)\n",
        "print(copia2)\n",
        "colores.append(\"verde\")\n",
        "print(colores)\n",
        "print(copia2)\n",
        "\n",
        "print (\"numero de veces que aparece el 15\", numeros.count(15))\n",
        "\n",
        "#extend\n",
        "\n",
        "nombres = [\"jose\", \"pedro\", \"karina\"]\n",
        "otrosnombres = [\"josue\", \"diana\", \"dalia\"]\n",
        "print(nombres)\n",
        "print(otrosnombres)\n",
        "\n",
        "nombres = nombres + otrosnombres\n",
        "print(nombres)\n",
        "print(otrosnombres)\n",
        "\n",
        "#lo mismo con el metod extend\n",
        "\n",
        "otrosnombres.extend([\"jesus\", \"maria\", \"jose\"])\n",
        "print(otrosnombres)\n",
        "\n",
        "print(\"jesus esta en la posicion:\", otrosnombres.index(\"jesus\"))\n",
        "otrosnombres.insert(4, \"Espiritu santo\")\n",
        "print (otrosnombres)\n",
        "\n",
        "#pop\n",
        "resultados = otrosnombres.pop()\n",
        "print(otrosnombres)\n",
        "print(resultados)"
      ],
      "execution_count": null,
      "outputs": [
        {
          "output_type": "stream",
          "name": "stdout",
          "text": [
            "[4, 1, 15, 8, 22, 34, 50]\n",
            "[4, 1, 15, 8, 22, 34, 50, 99]\n",
            "['uvas', 'kiwi', 'manzana']\n",
            "['uvas', 'kiwi', 'manzana']\n",
            "['uvas', 'kiwi', 'manzana', 'naranja']\n",
            "['uvas', 'kiwi', 'manzana', 'naranja']\n",
            "['rojo', 'azul', 'Blanco']\n",
            "['rojo', 'azul', 'Blanco']\n",
            "['rojo', 'azul', 'Blanco', 'verde']\n",
            "['rojo', 'azul', 'Blanco']\n",
            "numero de veces que aparece el 15 1\n",
            "['jose', 'pedro', 'karina']\n",
            "['josue', 'diana', 'dalia']\n",
            "['jose', 'pedro', 'karina', 'josue', 'diana', 'dalia']\n",
            "['josue', 'diana', 'dalia']\n",
            "['josue', 'diana', 'dalia', 'jesus', 'maria', 'jose']\n",
            "jesus esta en la posicion: 3\n",
            "['josue', 'diana', 'dalia', 'jesus', 'Espiritu santo', 'maria', 'jose']\n",
            "['josue', 'diana', 'dalia', 'jesus', 'Espiritu santo', 'maria']\n",
            "jose\n"
          ]
        }
      ]
    },
    {
      "cell_type": "markdown",
      "metadata": {
        "id": "m_UzkOlGv8b2"
      },
      "source": [
        "#TUPLAS\n",
        "###Caracteristicas de las tuplas \n",
        "\n",
        "- Datos agrupados \n",
        "- Se declara usando #\n",
        "-()\n",
        "-tuple ()\n",
        "- Estructura secuencial, indexada a apartir de 0\n",
        "- Pueden tecer de 0 a n elementos (No se puede eliminar y/o cambiar )\n",
        "- NO SON MUTABLES \n",
        "-Son buenas para almacenar informacion de consulta \n",
        "- Pueden almacenar info. de diferentes tipos de datos.\n",
        "- Pueden estar anidadas\n",
        "- Tienen metodos utiles "
      ]
    },
    {
      "cell_type": "code",
      "metadata": {
        "colab": {
          "base_uri": "https://localhost:8080/"
        },
        "id": "FfzLethSw9hs",
        "outputId": "0b0d9be5-1cea-4750-ee5c-627aef3a295b"
      },
      "source": [
        "info = (\"Huan23\", \"Dios1234\", \"123.232.1.12\")\n",
        "print (info)\n",
        "print (info[1])\n",
        "#info [1] = \"patito23\"\n",
        "\n",
        "numeros = (0, 1, 2, 3, 4, 5, 6, 7, 8, 9, 10, 11, 12, 13, 14, 15)\n",
        "print (numeros)\n",
        "print (numeros[5:11])\n",
        "\n",
        "cosas = (info, numeros)\n",
        "print (cosas)\n",
        "print(cosas[1][5:11:1])\n",
        "print(cosas[0][2][4:7])\n",
        "print(cosas[0][2][-8:-5])"
      ],
      "execution_count": 8,
      "outputs": [
        {
          "output_type": "stream",
          "name": "stdout",
          "text": [
            "('Huan23', 'Dios1234', '123.232.1.12')\n",
            "Dios1234\n",
            "(0, 1, 2, 3, 4, 5, 6, 7, 8, 9, 10, 11, 12, 13, 14, 15)\n",
            "(5, 6, 7, 8, 9, 10)\n",
            "(('Huan23', 'Dios1234', '123.232.1.12'), (0, 1, 2, 3, 4, 5, 6, 7, 8, 9, 10, 11, 12, 13, 14, 15))\n",
            "(5, 6, 7, 8, 9, 10)\n",
            "232\n",
            "232\n"
          ]
        }
      ]
    },
    {
      "cell_type": "markdown",
      "metadata": {
        "id": "8XSRNIN10lCp"
      },
      "source": [
        "#metodos de las tuplas\n",
        "Son los mismos de las listas pero los que no involucren mutabilidad "
      ]
    },
    {
      "cell_type": "markdown",
      "metadata": {
        "id": "8UPeIWQH2u7W"
      },
      "source": [
        "# Diccionarios \n",
        "### Caracteristicas de los diccionarios \n",
        "\n",
        "- Agrupan datos pero de forma no lineal.\n",
        "- Se declaras : \n",
        "  - {}\n",
        "  - dict()\n",
        "- Formado por pares del tipo llave:valor, donde : \n",
        "  - Lave es de tipo string (siempre)\n",
        "  - Valor puede ser de cualquier tipo de datos, incluyendo los diccionarios.\n",
        "- Son anidables \n",
        "- Se seleccionan con la llave de la forma : [\"id_llave\"]\n",
        "- Son mutables \n",
        "- Son equivalentes al tipo de dato JSON del lenguaje JavaScript (JS)"
      ]
    },
    {
      "cell_type": "code",
      "metadata": {
        "colab": {
          "base_uri": "https://localhost:8080/",
          "height": 316
        },
        "id": "CpZhcnW14y_3",
        "outputId": "b3dc8cb2-24af-4530-92b3-eb5939fd446a"
      },
      "source": [
        "alumno = {\"nombre\" : \"Jose\"}\n",
        "print (alumno)\n",
        "print (alumno[\"nombre\"])\n",
        "\n",
        "alumno = {\"nombre\" : \"Jose\", \"nc\" : \"2129229292\" , \"edad:\":18}\n",
        "print (\"Edad del alumno = \" , alumno[\"edad:\"])\n",
        "print(alumno[\"nombre\"].upper())\n",
        "\n",
        "alumno2= dict() #{}\n",
        "alumno2[\"nombre\"] = \"jose\"\n",
        "print(alumno2)\n",
        "alumno2[\"nc\"] = \"2129229292\"\n",
        "alumno2[\"edad\"] = \"18\"\n",
        "print(alumno2)\n",
        "alumno2[\"edad\"]= alumno2[\"edad\"]+1\n",
        "print(alumno2)"
      ],
      "execution_count": 23,
      "outputs": [
        {
          "output_type": "stream",
          "name": "stdout",
          "text": [
            "{'nombre': 'Jose'}\n",
            "Jose\n",
            "Edad del alumno =  18\n",
            "JOSE\n",
            "{'nombre': 'jose'}\n",
            "{'nombre': 'jose', 'nc': '2129229292', 'edad': '18'}\n"
          ]
        },
        {
          "output_type": "error",
          "ename": "TypeError",
          "evalue": "ignored",
          "traceback": [
            "\u001b[0;31m---------------------------------------------------------------------------\u001b[0m",
            "\u001b[0;31mTypeError\u001b[0m                                 Traceback (most recent call last)",
            "\u001b[0;32m<ipython-input-23-e2c9fd2e5b91>\u001b[0m in \u001b[0;36m<module>\u001b[0;34m()\u001b[0m\n\u001b[1;32m     13\u001b[0m \u001b[0malumno2\u001b[0m\u001b[0;34m[\u001b[0m\u001b[0;34m\"edad\"\u001b[0m\u001b[0;34m]\u001b[0m \u001b[0;34m=\u001b[0m \u001b[0;34m\"18\"\u001b[0m\u001b[0;34m\u001b[0m\u001b[0;34m\u001b[0m\u001b[0m\n\u001b[1;32m     14\u001b[0m \u001b[0mprint\u001b[0m\u001b[0;34m(\u001b[0m\u001b[0malumno2\u001b[0m\u001b[0;34m)\u001b[0m\u001b[0;34m\u001b[0m\u001b[0;34m\u001b[0m\u001b[0m\n\u001b[0;32m---> 15\u001b[0;31m \u001b[0malumno2\u001b[0m\u001b[0;34m[\u001b[0m\u001b[0;34m\"edad\"\u001b[0m\u001b[0;34m]\u001b[0m\u001b[0;34m=\u001b[0m \u001b[0malumno2\u001b[0m\u001b[0;34m[\u001b[0m\u001b[0;34m\"edad\"\u001b[0m\u001b[0;34m]\u001b[0m\u001b[0;34m+\u001b[0m\u001b[0;36m1\u001b[0m\u001b[0;34m\u001b[0m\u001b[0;34m\u001b[0m\u001b[0m\n\u001b[0m\u001b[1;32m     16\u001b[0m \u001b[0mprint\u001b[0m\u001b[0;34m(\u001b[0m\u001b[0malumno2\u001b[0m\u001b[0;34m)\u001b[0m\u001b[0;34m\u001b[0m\u001b[0;34m\u001b[0m\u001b[0m\n",
            "\u001b[0;31mTypeError\u001b[0m: can only concatenate str (not \"int\") to str"
          ]
        }
      ]
    },
    {
      "cell_type": "code",
      "metadata": {
        "colab": {
          "base_uri": "https://localhost:8080/"
        },
        "id": "rkU2sABJ8SPF",
        "outputId": "e372f5a2-dedb-421d-c929-eed6752438b0"
      },
      "source": [
        "cliente = {\"id\" : \"CT2121\" , \n",
        "           \"nombre\" : \"Jose Pedrosa Rosales\" , \n",
        "           \"telefonos \" : \"casa=554456565 cel=0445567767\"}\n",
        "\n",
        "print (cliente)\n",
        "cliente = {\"id\" : \"CT2121\" , \n",
        "           \"nombre\" : {\n",
        "               \"nombres\" : [\"Jose\", \"Eduardo\"],\n",
        "               \"paterno\" : \"Pedrosa\",\n",
        "               \"materno\" : \"Rosales\"\n",
        "           },\n",
        "           \"telefonos\" :{\n",
        "               \"casa\" : \"55-6632-4234\",\n",
        "               \"trabajo\" : \"55-443-3232\",\n",
        "               \"celular\" : \"044-55-234234\"\n",
        "            },\n",
        "            \"productos\":{\n",
        "                \"ahorro\":{\"numero_cuenta\":\"7788\", \"ahorro\":2500.5},\n",
        "                \"tarjetas\":[\n",
        "                            {\"tipo\":\"debito\",\"saldo\":10000.5},\n",
        "                            {\"tipo\":\"credito preferente\", \"limite\": 250000.5},\n",
        "                            {\"tipo\":\"lite\", \"limite\": 15000.5}\n",
        "                             \n",
        "                ]\n",
        "            },\n",
        "            \"direccion\":{\n",
        "                \"calle\":\"Av. central\",\n",
        "                \"numero\": 1245,\n",
        "                \"colonia\" :\"Impulsora\",\n",
        "                \"delegacion\" : \"neza\",\n",
        "                \"estado\" :{\n",
        "                    \"clave\":15,\n",
        "                    \"nombre_corto\": \"EdoMex\",\n",
        "                    \"nombre\" : \"Estado de Mexico\"\n",
        "                } \n",
        "            }\n",
        "\n",
        "\n",
        "}\n",
        "print( cliente[\"telefonos\"][\"casa\"] )    \n",
        "print( cliente)   \n",
        "print(cliente [\"productos\"][\"ahorro\"][\"ahorro\"])\n",
        "print(cliente[\"productos\"][\"tarjetas\"][2][\"limite\"])\n",
        "print(cliente[\"direccion\"][\"estado\"][\"nombre\"].upper())\n",
        "     "
      ],
      "execution_count": 37,
      "outputs": [
        {
          "output_type": "stream",
          "name": "stdout",
          "text": [
            "{'id': 'CT2121', 'nombre': 'Jose Pedrosa Rosales', 'telefonos ': 'casa=554456565 cel=0445567767'}\n",
            "55-6632-4234\n",
            "{'id': 'CT2121', 'nombre': {'nombres': ['Jose', 'Eduardo'], 'paterno': 'Pedrosa', 'materno': 'Rosales'}, 'telefonos': {'casa': '55-6632-4234', 'trabajo': '55-443-3232', 'celular': '044-55-234234'}, 'productos': {'ahorro': {'numero_cuenta': '7788', 'ahorro': 2500.5}, 'tarjetas': [{'tipo': 'debito', 'saldo': 10000.5}, {'tipo': 'credito preferente', 'limite': 250000.5}, {'tipo': 'lite', 'limite': 15000.5}]}, 'direccion': {'calle': 'Av. central', 'numero': 1245, 'colonia': 'Impulsora', 'delegacion': 'neza', 'estado': {'clave': 15, 'nombre_corto': 'EdoMex', 'nombre': 'Estado de Mexico'}}}\n",
            "2500.5\n",
            "15000.5\n",
            "ESTADO DE MEXICO\n"
          ]
        }
      ]
    }
  ]
}