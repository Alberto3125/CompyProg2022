{
  "nbformat": 4,
  "nbformat_minor": 0,
  "metadata": {
    "colab": {
      "name": "Ejercicio_2.12.ipynb",
      "provenance": [],
      "authorship_tag": "ABX9TyPRc5Y09nhVOMMWgTJXLDkB",
      "include_colab_link": true
    },
    "kernelspec": {
      "name": "python3",
      "display_name": "Python 3"
    },
    "language_info": {
      "name": "python"
    }
  },
  "cells": [
    {
      "cell_type": "markdown",
      "metadata": {
        "id": "view-in-github",
        "colab_type": "text"
      },
      "source": [
        "<a href=\"https://colab.research.google.com/github/Alberto3125/CompyProg2022/blob/main/Ejercicio_2_12.ipynb\" target=\"_parent\"><img src=\"https://colab.research.google.com/assets/colab-badge.svg\" alt=\"Open In Colab\"/></a>"
      ]
    },
    {
      "cell_type": "code",
      "metadata": {
        "colab": {
          "base_uri": "https://localhost:8080/"
        },
        "id": "pDqxb_TNOnqX",
        "outputId": "6e3dfc69-cf94-43d0-a0ed-f11c30da0b8f"
      },
      "source": [
        "#ejemplo 2.12\n",
        "A=int(input(\"Dame un primer numero entero: \"))\n",
        "B=int(input(\"Dame un segundo numero entero diferente: \"))\n",
        "C=int(input(\"Dame un tercer numero entero diferente: \"))\n",
        "\n",
        "if A==B==C or A==B or A==C or B==C:\n",
        "    print(\"ALGUNOS NÚMEROS SON IGUALES, DEBEN SER 3 NUMEROS DIFERENTES\")\n",
        "if A>B:\n",
        "    if A>C: \n",
        "        if B>C:\n",
        "            print(\"ORDEN MAYOR A MENOR : \",A, B, C)\n",
        "        else:\n",
        "            print(\"ORDEN MAYOR A MENOR : \",A, C, B)\n",
        "    else: print(\"ORDEN MAYOR A MENOR : \",C, A, B)\n",
        "else:\n",
        "    if B>C: \n",
        "    \n",
        "        if A>C:\n",
        "            print(\"ORDEN MAYOR A MENOR : \",B, A, C)\n",
        "        else:\n",
        "            print(\"ORDEN MAYOR A MENOR : \",B, C, A)\n",
        "    else: print(\"ORDEN MAYOR A MENOR : \",C, B, A)\n",
        "\n",
        "print(\"--FIN DEL PROGRAMA--\")\n"
      ],
      "execution_count": 1,
      "outputs": [
        {
          "output_type": "stream",
          "name": "stdout",
          "text": [
            "Dame un primer numero entero: 5\n",
            "Dame un segundo numero entero diferente: 9\n",
            "Dame un tercer numero entero diferente: 10\n",
            "ORDEN MAYOR A MENOR :  10 9 5\n",
            "--FIN DEL PROGRAMA--\n"
          ]
        }
      ]
    }
  ]
}