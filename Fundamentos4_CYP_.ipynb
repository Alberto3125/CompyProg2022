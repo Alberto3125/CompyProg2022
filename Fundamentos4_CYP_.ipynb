{
  "nbformat": 4,
  "nbformat_minor": 0,
  "metadata": {
    "colab": {
      "name": "Fundamentos4_CYP_.ipynb",
      "provenance": [],
      "authorship_tag": "ABX9TyOsIiKGtOvdXiWAPcfbZ8Pn",
      "include_colab_link": true
    },
    "kernelspec": {
      "name": "python3",
      "display_name": "Python 3"
    },
    "language_info": {
      "name": "python"
    }
  },
  "cells": [
    {
      "cell_type": "markdown",
      "metadata": {
        "id": "view-in-github",
        "colab_type": "text"
      },
      "source": [
        "<a href=\"https://colab.research.google.com/github/Alberto3125/CompyProg2022/blob/main/Fundamentos4_CYP_.ipynb\" target=\"_parent\"><img src=\"https://colab.research.google.com/assets/colab-badge.svg\" alt=\"Open In Colab\"/></a>"
      ]
    },
    {
      "cell_type": "markdown",
      "metadata": {
        "id": "rR7CcWp9-9Fn"
      },
      "source": [
        "# Estructura Do_While\n",
        "### Lo mismo que while pero, primero hace y despues pregunta(evalua)\n",
        "## En python no existe el Do-while x\n",
        "\n",
        "#include <stdio.h>\n",
        "\n",
        "int main()\n",
        "{\n",
        "    int valor = 0; \n",
        "    printf(\".-.-.-.-.-.-.- con do-while.-.-.-.-.-\");\n",
        "    do {\n",
        "        printf(\"%i \\n\",valor);\n",
        "        printf(\"Dame un valor entero: \");\n",
        "        scanf(\"%i\",&valor);\n",
        "        \n",
        "    }while(valor!=0);\n",
        "    \n",
        "    printf(\"Fin del programa\\n\");\n",
        "    \n",
        "    return 0;\n",
        "}"
      ]
    },
    {
      "cell_type": "markdown",
      "metadata": {
        "id": "-PMp2zbKVI71"
      },
      "source": [
        "una funcion es una unidad de codigo reutilizable, ademas deser un mecanismo para organizar codigo. \n",
        "\n",
        "La gran ventaja de emplear funciones es simplificar la programacion.\n",
        "\n",
        "\n",
        "#### Estructura\n",
        "\n",
        "Una funcion puede tomar cualquier cantidad de parametros de entrada ( de cualquier tipo) y retorna unicamente un solo valor.\n",
        "\n",
        "Un parametro de entrada es un valor que recibe la funcion para realizar sus operaciones. \n",
        "\n",
        "Con una funfcion se pueden hacer dos cosas:\n",
        "1. Definirla\n",
        "2. Invocarla (ejecutarla)\n",
        "\n",
        "La gran ventaja de tener una funcion declarada es que la podemos reutilizar cuando se desee "
      ]
    },
    {
      "cell_type": "markdown",
      "metadata": {
        "id": "BngMokIGVqqm"
      },
      "source": [
        "# Modularidad (Funciones)"
      ]
    },
    {
      "cell_type": "code",
      "metadata": {
        "colab": {
          "base_uri": "https://localhost:8080/"
        },
        "id": "jQALDVADWj7R",
        "outputId": "07ddc2d9-335e-412a-8ae4-6e38df81c619"
      },
      "source": [
        "print(\"hola\")"
      ],
      "execution_count": 1,
      "outputs": [
        {
          "output_type": "stream",
          "name": "stdout",
          "text": [
            "hola\n"
          ]
        }
      ]
    },
    {
      "cell_type": "code",
      "metadata": {
        "id": "nfda89q_XVQm"
      },
      "source": [
        "def sumar( op1, op2 ):\n",
        "    res = op1 + op2\n",
        "    return res"
      ],
      "execution_count": 8,
      "outputs": []
    },
    {
      "cell_type": "code",
      "metadata": {
        "colab": {
          "base_uri": "https://localhost:8080/"
        },
        "id": "qUAKPTpHYF07",
        "outputId": "f1ddc91d-2605-4ff2-ebe9-6505c87362c0"
      },
      "source": [
        "res = sumar( 2 , 5 )\n",
        "print(res)\n",
        "res = sumar( 33 , 22 )\n",
        "print(res)"
      ],
      "execution_count": 10,
      "outputs": [
        {
          "output_type": "stream",
          "name": "stdout",
          "text": [
            "7\n",
            "55\n"
          ]
        }
      ]
    },
    {
      "cell_type": "code",
      "metadata": {
        "colab": {
          "base_uri": "https://localhost:8080/"
        },
        "id": "3cCSg8bDcwi8",
        "outputId": "6c61a8aa-84b7-41ea-819f-b09e41bdc1c4"
      },
      "source": [
        "print(\"hola\",\"Jusus\",sep=\"-\")"
      ],
      "execution_count": 11,
      "outputs": [
        {
          "output_type": "stream",
          "name": "stdout",
          "text": [
            "hola-Jusus\n"
          ]
        }
      ]
    },
    {
      "cell_type": "code",
      "metadata": {
        "colab": {
          "base_uri": "https://localhost:8080/"
        },
        "id": "RIqyxbqSczAM",
        "outputId": "220a169c-7456-49e5-d90c-7e38852465b7"
      },
      "source": [
        "def imprime_cuadro():\n",
        "    print(\"****\")\n",
        "    print(\"****\")\n",
        "    print(\"****\")\n",
        "    print(\"****\")\n",
        "    #return None\n",
        "\n",
        "imprime_cuadro()"
      ],
      "execution_count": 13,
      "outputs": [
        {
          "output_type": "stream",
          "name": "stdout",
          "text": [
            "****\n",
            "****\n",
            "****\n",
            "****\n"
          ]
        }
      ]
    },
    {
      "cell_type": "markdown",
      "metadata": {
        "id": "x97lHtaa_hVv"
      },
      "source": [
        "# valor de retorno de una funcion\n",
        "\n",
        "regla de oro.- una funcion siempre retorna en un solo valor. Incluisve si ese valor es el  vacio "
      ]
    },
    {
      "cell_type": "code",
      "metadata": {
        "colab": {
          "base_uri": "https://localhost:8080/"
        },
        "id": "AlDEvRURc2C7",
        "outputId": "a122fb1d-f57a-4140-f261-271443672204"
      },
      "source": [
        "#invocar sumar \n",
        "res = sumar(7, 8)\n",
        "print(res)\n",
        "\n",
        "#invocar la funcion pintar cuadro\n",
        "\n",
        "res = imprime_cuadro()\n",
        "print(res)"
      ],
      "execution_count": 14,
      "outputs": [
        {
          "output_type": "stream",
          "name": "stdout",
          "text": [
            "15\n",
            "****\n",
            "****\n",
            "****\n",
            "****\n",
            "None\n"
          ]
        }
      ]
    },
    {
      "cell_type": "markdown",
      "metadata": {
        "id": "RhaUQByEdGZ9"
      },
      "source": [
        "# La palabra reservada None de python\n",
        "Esta palabra reservada significa vacion, equivalente a la palabra reservada void del lenguaje C, C++ y Java. \n",
        "\n",
        "Se usa para indicar ya sea un return vacio o que se recibe como parametro un vacio "
      ]
    },
    {
      "cell_type": "code",
      "metadata": {
        "id": "z5MwsMk9d7CM"
      },
      "source": [
        "def multiplicar(valor , veces):\n",
        "    c = valor*veces\n",
        "    return c "
      ],
      "execution_count": 17,
      "outputs": []
    },
    {
      "cell_type": "code",
      "metadata": {
        "colab": {
          "base_uri": "https://localhost:8080/"
        },
        "id": "voqVGmWneITv",
        "outputId": "324a4e74-ac74-423f-8135-7680ca399102"
      },
      "source": [
        "res = multiplicar( 5, 5 )\n",
        "print(res)"
      ],
      "execution_count": 18,
      "outputs": [
        {
          "output_type": "stream",
          "name": "stdout",
          "text": [
            "25\n"
          ]
        }
      ]
    },
    {
      "cell_type": "code",
      "metadata": {
        "id": "QCUWnuWAetH5"
      },
      "source": [
        "def multiplicar(valor , veces):\n",
        "    if valor == None:\n",
        "        c=-1\n",
        "    else: \n",
        "        c = valor*veces\n",
        "    return c \n"
      ],
      "execution_count": 20,
      "outputs": []
    },
    {
      "cell_type": "code",
      "metadata": {
        "colab": {
          "base_uri": "https://localhost:8080/"
        },
        "id": "ji09BClzfACO",
        "outputId": "9263dc85-199d-4096-8185-a90a238e3ede"
      },
      "source": [
        "res = multiplicar( None, 5 )\n",
        "print(res)"
      ],
      "execution_count": 21,
      "outputs": [
        {
          "output_type": "stream",
          "name": "stdout",
          "text": [
            "-1\n"
          ]
        }
      ]
    },
    {
      "cell_type": "markdown",
      "metadata": {
        "id": "xASHK__DfoHg"
      },
      "source": [
        "# Parametros y argumentos.\n",
        "\n",
        "Son conceptos relacionados y su diferencia esta centrada en el momento que se emplea en una funcion.\n",
        "\n",
        "Es decir en la funcion sumar de arriba, cuando se declara se le llama parametro y cuando se invoca se le llama argumento"
      ]
    },
    {
      "cell_type": "markdown",
      "metadata": {
        "id": "ALlZGh9gfcDy"
      },
      "source": [
        "# Argumentos posicionales\n",
        "En python es posible determinar a que parametros estan dirigidos los argumentos, segun su posicion. "
      ]
    },
    {
      "cell_type": "code",
      "metadata": {
        "id": "sQRTehKygmt4"
      },
      "source": [
        "def dividir(op1 , op2 ):\n",
        "    c = op1/op2\n",
        "    return c"
      ],
      "execution_count": 22,
      "outputs": []
    },
    {
      "cell_type": "code",
      "metadata": {
        "colab": {
          "base_uri": "https://localhost:8080/"
        },
        "id": "wlzzYgbGg1rg",
        "outputId": "a7302f89-ca66-4278-98cb-3adad3b4f98e"
      },
      "source": [
        "num1 =  25\n",
        "num2 = 5\n",
        "res = dividir( num1 , num2 )\n",
        "print(res)\n",
        "res = dividir( num2 , num1 )\n",
        "print(res)"
      ],
      "execution_count": 24,
      "outputs": [
        {
          "output_type": "stream",
          "name": "stdout",
          "text": [
            "5.0\n",
            "0.2\n"
          ]
        }
      ]
    },
    {
      "cell_type": "markdown",
      "metadata": {
        "id": "gTXTdBs4hR2U"
      },
      "source": [
        "# Argumentos con palabras clase (keywords)\n",
        "\n",
        "Es la posibilidad de indicarle a la funcion en tiempo de ejecucion a que parametro va dirigido un argumento de entrada.\n",
        "\n",
        "Solo disponible en python "
      ]
    },
    {
      "cell_type": "code",
      "metadata": {
        "colab": {
          "base_uri": "https://localhost:8080/"
        },
        "id": "yjWkpdF6hrlA",
        "outputId": "0136daea-5890-4946-b82a-0d637aa6a3ee"
      },
      "source": [
        "res = dividir( op2=num2 , op1=num1 )\n",
        "print(res)"
      ],
      "execution_count": 26,
      "outputs": [
        {
          "output_type": "stream",
          "name": "stdout",
          "text": [
            "5.0\n"
          ]
        }
      ]
    },
    {
      "cell_type": "markdown",
      "metadata": {
        "id": "ES_x6kJ1-6IT"
      },
      "source": [
        ""
      ]
    }
  ]
}