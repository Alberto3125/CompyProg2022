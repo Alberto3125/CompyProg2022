{
  "nbformat": 4,
  "nbformat_minor": 0,
  "metadata": {
    "colab": {
      "name": "Fundamentos3_CyP.ipynb",
      "provenance": [],
      "authorship_tag": "ABX9TyP2TaCK/TQnM7aa7NjbISYj",
      "include_colab_link": true
    },
    "kernelspec": {
      "name": "python3",
      "display_name": "Python 3"
    },
    "language_info": {
      "name": "python"
    }
  },
  "cells": [
    {
      "cell_type": "markdown",
      "metadata": {
        "id": "view-in-github",
        "colab_type": "text"
      },
      "source": [
        "<a href=\"https://colab.research.google.com/github/Alberto3125/CompyProg2022/blob/main/Fundamentos3_CyP.ipynb\" target=\"_parent\"><img src=\"https://colab.research.google.com/assets/colab-badge.svg\" alt=\"Open In Colab\"/></a>"
      ]
    },
    {
      "cell_type": "markdown",
      "metadata": {
        "id": "3CowXHFjFjz8"
      },
      "source": [
        "Repetición:\n",
        "\n",
        "Este tipo de estructura nos permite automatizar la ejecución repetitiva de código mientas ciertas condiciones s cumplan, tenemos 3 variantes de esta estructura en todos los lenguajes de programación:\n",
        "\n",
        "Desde...hasta (estructura for)\n",
        "haz mientras (structura While)\n",
        "haz y luego validaz mientras( estructura Do-While)\n",
        "\n",
        "###FOR CON PYTHON \n",
        "```\n",
        "for j in range (10) :\n",
        "    print(f\"Hola {j}\")\n",
        "\n",
        "```\n",
        "\n",
        "###FOR CON C y/o Java\n",
        "```\n",
        "for (int j=0; j<10; j=j+1){\n",
        "    printf(\"Hola %i diagonal al reves n\", j);\n",
        "}\n",
        "```\n",
        "\n",
        "En todos los lenguajes de programacion existen un tipo especial de for conocido com for ** for-each**\n",
        "\n",
        "### for-each\n",
        "```\n",
        "for color in colores:\n",
        "    print (f\"Este es el color {color}\")\n",
        "\n",
        "```"
      ]
    },
    {
      "cell_type": "code",
      "metadata": {
        "colab": {
          "base_uri": "https://localhost:8080/"
        },
        "id": "v20oiQHxFSjU",
        "outputId": "8c87edc1-9578-46d9-8157-36e4978725eb"
      },
      "source": [
        "# funcion range ()\n",
        "# ranche (<INICIO>, <STOP>, <INCREMENTO>)\n",
        "x = range(0,10,2)\n",
        "print(x)\n",
        "\n",
        "\n",
        "for j in range(10): #range (0,10)--->0,1,2,3,4,5,6,7,8,9\n",
        "    print(f\"Hola {j}\")\n",
        "\n",
        "print(\"----------\")\n",
        "for j in range(0,10,2): #range (0,10,2)--->0,2,4,6,8,\n",
        "    print(f\"Hola {j}\")\n",
        "\n",
        "frutas = [\"Uva\", \"aguacate \",\"pera\",\"manzana\",\"sandia\"]\n",
        "\n",
        "print(frutas[0])\n",
        "print(frutas[1])\n",
        "print(frutas[2])\n",
        "print(frutas[3])\n",
        "print(frutas[4])\n",
        "\n",
        "print(\"----Frutas----\")\n",
        "for index  in range(5):\n",
        "    print(frutas[index])\n",
        "\n",
        "print(\"------\")\n",
        "for index in range(5):\n",
        "    print(\"+++++\")\n"
      ],
      "execution_count": null,
      "outputs": [
        {
          "output_type": "stream",
          "name": "stdout",
          "text": [
            "range(0, 10, 2)\n",
            "Hola 0\n",
            "Hola 1\n",
            "Hola 2\n",
            "Hola 3\n",
            "Hola 4\n",
            "Hola 5\n",
            "Hola 6\n",
            "Hola 7\n",
            "Hola 8\n",
            "Hola 9\n",
            "----------\n",
            "Hola 0\n",
            "Hola 2\n",
            "Hola 4\n",
            "Hola 6\n",
            "Hola 8\n",
            "Uva\n",
            "aguacate \n",
            "pera\n",
            "manzana\n",
            "sandia\n",
            "----Frutas----\n",
            "Uva\n",
            "aguacate \n",
            "pera\n",
            "manzana\n",
            "sandia\n",
            "------\n",
            "+++++\n",
            "+++++\n",
            "+++++\n",
            "+++++\n",
            "+++++\n"
          ]
        }
      ]
    },
    {
      "cell_type": "code",
      "metadata": {
        "colab": {
          "base_uri": "https://localhost:8080/"
        },
        "id": "V4lp1AorMA9b",
        "outputId": "8d181755-8a28-477e-b770-ea2aeb5e855b"
      },
      "source": [
        "for x in range(1, 20, 1):\n",
        "    print(x)\n",
        "print(\"Fin del programa\")\n",
        "\n",
        "\n",
        "for x in range (19,0,-1):\n",
        "    print(x)\n",
        "print(\"Fin del programa\")"
      ],
      "execution_count": 1,
      "outputs": [
        {
          "output_type": "stream",
          "name": "stdout",
          "text": [
            "1\n",
            "2\n",
            "3\n",
            "4\n",
            "5\n",
            "6\n",
            "7\n",
            "8\n",
            "9\n",
            "10\n",
            "11\n",
            "12\n",
            "13\n",
            "14\n",
            "15\n",
            "16\n",
            "17\n",
            "18\n",
            "19\n",
            "Fin del programa\n",
            "19\n",
            "18\n",
            "17\n",
            "16\n",
            "15\n",
            "14\n",
            "13\n",
            "12\n",
            "11\n",
            "10\n",
            "9\n",
            "8\n",
            "7\n",
            "6\n",
            "5\n",
            "4\n",
            "3\n",
            "2\n",
            "1\n",
            "Fin del programa\n"
          ]
        }
      ]
    },
    {
      "cell_type": "code",
      "metadata": {
        "colab": {
          "base_uri": "https://localhost:8080/"
        },
        "id": "-1IJk-VTNOwP",
        "outputId": "4785f67d-920f-4981-e18a-fe7f8a1957bf"
      },
      "source": [
        "# ejemplo 3.3\n",
        "CUECER = 0\n",
        "NUM = 0 \n",
        "N = int(input(\"un valor numerico mayor que 1: \"))\n",
        "for I in range(1, N+1, 1):\n",
        "    N = int(input(\"un valor numerico mayor que 1: \"))\n",
        "    if N == 0: \n",
        "        CUECER += 1\n",
        "\n",
        "print(\"CUECER= \", CUECER)\n"
      ],
      "execution_count": 4,
      "outputs": [
        {
          "output_type": "stream",
          "name": "stdout",
          "text": [
            "un valor numerico mayor que 1: 4\n",
            "un valor numerico mayor que 1: 0\n",
            "un valor numerico mayor que 1: 0\n",
            "un valor numerico mayor que 1: 1\n",
            "un valor numerico mayor que 1: 5\n",
            "CUECER=  2\n"
          ]
        }
      ]
    },
    {
      "cell_type": "code",
      "metadata": {
        "colab": {
          "base_uri": "https://localhost:8080/"
        },
        "id": "gaIrKJBYQvao",
        "outputId": "53a5c434-ff67-42ac-e621-e99a311e961c"
      },
      "source": [
        "for f in range(1,11): print(f'7 x {f} = {7 * f}')\n",
        "print(f) "
      ],
      "execution_count": 5,
      "outputs": [
        {
          "output_type": "stream",
          "name": "stdout",
          "text": [
            "7 x 1 = 7\n",
            "7 x 2 = 14\n",
            "7 x 3 = 21\n",
            "7 x 4 = 28\n",
            "7 x 5 = 35\n",
            "7 x 6 = 42\n",
            "7 x 7 = 49\n",
            "7 x 8 = 56\n",
            "7 x 9 = 63\n",
            "7 x 10 = 70\n",
            "10\n"
          ]
        }
      ]
    },
    {
      "cell_type": "code",
      "metadata": {
        "colab": {
          "base_uri": "https://localhost:8080/"
        },
        "id": "9uCE_Z8GSLh5",
        "outputId": "01ece965-2ac3-4f1d-fc84-3ac340f68fa5"
      },
      "source": [
        "N1 = int(input(\"Dame un número entre 1 y 5: \"))\n",
        "if N1 > 0 and N1 <=5:\n",
        "    N2 = int(input(f\"Dame un número entre {N1} y 10: \"))\n",
        "    if N2 >= N1 and N2 <=10:\n",
        "        for i in range( N1, N2+1):\n",
        "            for j in range(0,11):\n",
        "                print(f\"{i} x {j} = \", i*j)\n",
        "            print(\"--------\")\n",
        "else: \n",
        "    print(\"Valor fuera de rango 1-5\")                "
      ],
      "execution_count": 7,
      "outputs": [
        {
          "output_type": "stream",
          "name": "stdout",
          "text": [
            "Dame un número entre 1 y 5: 3\n",
            "Dame un número entre 3 y 10: 4\n",
            "3 x 0 =  0\n",
            "3 x 1 =  3\n",
            "3 x 2 =  6\n",
            "3 x 3 =  9\n",
            "3 x 4 =  12\n",
            "3 x 5 =  15\n",
            "3 x 6 =  18\n",
            "3 x 7 =  21\n",
            "3 x 8 =  24\n",
            "3 x 9 =  27\n",
            "3 x 10 =  30\n",
            "--------\n",
            "4 x 0 =  0\n",
            "4 x 1 =  4\n",
            "4 x 2 =  8\n",
            "4 x 3 =  12\n",
            "4 x 4 =  16\n",
            "4 x 5 =  20\n",
            "4 x 6 =  24\n",
            "4 x 7 =  28\n",
            "4 x 8 =  32\n",
            "4 x 9 =  36\n",
            "4 x 10 =  40\n",
            "--------\n"
          ]
        }
      ]
    },
    {
      "cell_type": "code",
      "metadata": {
        "colab": {
          "base_uri": "https://localhost:8080/"
        },
        "id": "wGo-9QKPW8BI",
        "outputId": "31061fad-7611-4996-994f-8861d0173a23"
      },
      "source": [
        "# generadores de listas\n",
        "numeros = [0,0,0,0,0]\n",
        "print(numeros)\n",
        "numeros = [0 for x in range(5)]\n",
        "print(numeros)\n",
        "# empleando la variable de control x para el valor inicial \n",
        "numeros = [x for x in range(5)]\n",
        "print(numeros)\n",
        "\n",
        "numeros = [(x+1)*10 for x in range(10)]\n",
        "print(numeros)\n",
        "\n",
        "numeros = [ x for x in range(10,101,10) ]\n",
        "print(numeros)\n",
        "\n",
        "print(\".-.-.-.-.-.-.-.\")\n",
        "numeros = [ x*10 for x in range(1,11) ]\n",
        "print(numeros)"
      ],
      "execution_count": 13,
      "outputs": [
        {
          "output_type": "stream",
          "name": "stdout",
          "text": [
            "[0, 0, 0, 0, 0]\n",
            "[0, 0, 0, 0, 0]\n",
            "[0, 1, 2, 3, 4]\n",
            "[10, 20, 30, 40, 50, 60, 70, 80, 90, 100]\n",
            "[10, 20, 30, 40, 50, 60, 70, 80, 90, 100]\n",
            ".-.-.-.-.-.-.-.\n",
            "[10, 20, 30, 40, 50, 60, 70, 80, 90, 100]\n"
          ]
        }
      ]
    },
    {
      "cell_type": "code",
      "metadata": {
        "colab": {
          "base_uri": "https://localhost:8080/"
        },
        "id": "16W32CcbYRO_",
        "outputId": "133ebd2d-b0c5-482b-93ad-7319b4a92a31"
      },
      "source": [
        "# ejecucion: calcular promedio de edades\n",
        "suma=0\n",
        "edades=[0 for x in range(5)]\n",
        "for x in range(5):\n",
        "    edades[x]=int(input(\"Dame una edad: \"))\n",
        "    suma=suma+edades[x]\n",
        "print(edades)\n",
        "print(\"promedio: \", suma/5)"
      ],
      "execution_count": 27,
      "outputs": [
        {
          "output_type": "stream",
          "name": "stdout",
          "text": [
            "Dame una edad: 6\n",
            "Dame una edad: 8\n",
            "Dame una edad: 9\n",
            "Dame una edad: 7\n",
            "Dame una edad: 7\n",
            "[6, 8, 9, 7, 7]\n",
            "promedio:  7.4\n"
          ]
        }
      ]
    },
    {
      "cell_type": "code",
      "metadata": {
        "colab": {
          "base_uri": "https://localhost:8080/"
        },
        "id": "YB8AXAOzdxHf",
        "outputId": "360435fc-e372-42eb-b743-2983b180a20d"
      },
      "source": [
        "import random\n",
        "print(random.random())\n",
        "print(random.uniform(5,11))\n",
        "val = round(random.uniform(5,11) , 2)\n",
        "print(val)\n",
        "\n",
        "valores = [round(random.uniform(5,11),2) for x in range(20)]\n",
        "print(valores)"
      ],
      "execution_count": 37,
      "outputs": [
        {
          "output_type": "stream",
          "name": "stdout",
          "text": [
            "0.00888671423671561\n",
            "9.255789690291286\n",
            "8.13\n",
            "[10.62, 7.19, 9.65, 9.24, 6.31, 10.81, 5.21, 10.12, 9.31, 5.36, 9.82, 7.15, 9.38, 5.07, 8.86, 10.1, 5.11, 10.98, 10.9, 7.11]\n"
          ]
        }
      ]
    },
    {
      "cell_type": "code",
      "metadata": {
        "id": "7BkNOiT5d1p0"
      },
      "source": [
        ""
      ],
      "execution_count": null,
      "outputs": []
    }
  ]
}