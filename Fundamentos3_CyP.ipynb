{
  "nbformat": 4,
  "nbformat_minor": 0,
  "metadata": {
    "colab": {
      "name": "Fundamentos3_CyP.ipynb",
      "provenance": [],
      "authorship_tag": "ABX9TyMArQqAUekH+nY+XEK9WAJE",
      "include_colab_link": true
    },
    "kernelspec": {
      "name": "python3",
      "display_name": "Python 3"
    },
    "language_info": {
      "name": "python"
    }
  },
  "cells": [
    {
      "cell_type": "markdown",
      "metadata": {
        "id": "view-in-github",
        "colab_type": "text"
      },
      "source": [
        "<a href=\"https://colab.research.google.com/github/Alberto3125/CompyProg2022/blob/main/Fundamentos3_CyP.ipynb\" target=\"_parent\"><img src=\"https://colab.research.google.com/assets/colab-badge.svg\" alt=\"Open In Colab\"/></a>"
      ]
    },
    {
      "cell_type": "markdown",
      "metadata": {
        "id": "3CowXHFjFjz8"
      },
      "source": [
        "Repetición:\n",
        "\n",
        "Este tipo de estructura nos permite automatizar la ejecución repetitiva de código mientas ciertas condiciones s cumplan, tenemos 3 variantes de esta estructura en todos los lenguajes de programación:\n",
        "\n",
        "Desde...hasta (estructura for)\n",
        "haz mientras (structura While)\n",
        "haz y luego validaz mientras( estructura Do-While)\n",
        "\n",
        "###FOR CON PYTHON \n",
        "```\n",
        "for j in range (10) :\n",
        "    print(f\"Hola {j}\")\n",
        "\n",
        "```\n",
        "\n",
        "###FOR CON C y/o Java\n",
        "```\n",
        "for (int j=0; j<10; j=j+1){\n",
        "    printf(\"Hola %i diagonal al reves n\", j);\n",
        "}\n",
        "```\n",
        "\n",
        "En todos los lenguajes de programacion existen un tipo especial de for conocido com for ** for-each**\n",
        "\n",
        "### for-each\n",
        "```\n",
        "for color in colores:\n",
        "    print (f\"Este es el color {color}\")\n",
        "\n",
        "```"
      ]
    },
    {
      "cell_type": "code",
      "metadata": {
        "colab": {
          "base_uri": "https://localhost:8080/"
        },
        "id": "v20oiQHxFSjU",
        "outputId": "8c87edc1-9578-46d9-8157-36e4978725eb"
      },
      "source": [
        "# funcion range ()\n",
        "# ranche (<INICIO>, <STOP>, <INCREMENTO>)\n",
        "x = range(0,10,2)\n",
        "print(x)\n",
        "\n",
        "\n",
        "for j in range(10): #range (0,10)--->0,1,2,3,4,5,6,7,8,9\n",
        "    print(f\"Hola {j}\")\n",
        "\n",
        "print(\"----------\")\n",
        "for j in range(0,10,2): #range (0,10,2)--->0,2,4,6,8,\n",
        "    print(f\"Hola {j}\")\n",
        "\n",
        "frutas = [\"Uva\", \"aguacate \",\"pera\",\"manzana\",\"sandia\"]\n",
        "\n",
        "print(frutas[0])\n",
        "print(frutas[1])\n",
        "print(frutas[2])\n",
        "print(frutas[3])\n",
        "print(frutas[4])\n",
        "\n",
        "print(\"----Frutas----\")\n",
        "for index  in range(5):\n",
        "    print(frutas[index])\n",
        "\n",
        "print(\"------\")\n",
        "for index in range(5):\n",
        "    print(\"+++++\")\n"
      ],
      "execution_count": 13,
      "outputs": [
        {
          "output_type": "stream",
          "name": "stdout",
          "text": [
            "range(0, 10, 2)\n",
            "Hola 0\n",
            "Hola 1\n",
            "Hola 2\n",
            "Hola 3\n",
            "Hola 4\n",
            "Hola 5\n",
            "Hola 6\n",
            "Hola 7\n",
            "Hola 8\n",
            "Hola 9\n",
            "----------\n",
            "Hola 0\n",
            "Hola 2\n",
            "Hola 4\n",
            "Hola 6\n",
            "Hola 8\n",
            "Uva\n",
            "aguacate \n",
            "pera\n",
            "manzana\n",
            "sandia\n",
            "----Frutas----\n",
            "Uva\n",
            "aguacate \n",
            "pera\n",
            "manzana\n",
            "sandia\n",
            "------\n",
            "+++++\n",
            "+++++\n",
            "+++++\n",
            "+++++\n",
            "+++++\n"
          ]
        }
      ]
    }
  ]
}